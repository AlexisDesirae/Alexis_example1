{
  "nbformat": 4,
  "nbformat_minor": 0,
  "metadata": {
    "colab": {
      "provenance": [],
      "authorship_tag": "ABX9TyPedU4ThrIEU7UIcbvFBTE0",
      "include_colab_link": true
    },
    "kernelspec": {
      "name": "python3",
      "display_name": "Python 3"
    },
    "language_info": {
      "name": "python"
    }
  },
  "cells": [
    {
      "cell_type": "markdown",
      "metadata": {
        "id": "view-in-github",
        "colab_type": "text"
      },
      "source": [
        "<a href=\"https://colab.research.google.com/github/AlexisDesirae/Alexis_example1/blob/main/FINAL_Correlation_between_COVID_19_and_a_healthy_diet_Capstone_Project.ipynb\" target=\"_parent\"><img src=\"https://colab.research.google.com/assets/colab-badge.svg\" alt=\"Open In Colab\"/></a>"
      ]
    },
    {
      "cell_type": "markdown",
      "source": [
        "##The correlation  between COVID 19 and a healthy diet"
      ],
      "metadata": {
        "id": "YxraOg4lztsI"
      }
    },
    {
      "cell_type": "markdown",
      "source": [
        "My dataset consists of different countries around the world and the percentage in kilograms in which they eat certain foods i.e meat, milk, animal products, treenuts, vegetables, etc. My dataset also includes data around the percent of obese and undernourished individuals in said countries along with the percentage of confirmed COVID cases, deaths, recoveries, and active cases.\n",
        "Using this dataset, I will analyze the effects that a healthy diet has on the percent of confirmed COVID cases, along with deaths, recoveries, and active cases.\n",
        "This data can be very helpful to food manufacturers and grocery stores as if it is found that healthier lifestyles has a positive impact on those who contract COVID 19 the manufacturers can make the determination on which foods they wish to prioritize when it comes to food production and grocery stores can make sure these options are in stock.\n"
      ],
      "metadata": {
        "id": "mzxjeOZcA6pP"
      }
    },
    {
      "cell_type": "markdown",
      "source": [
        "To begin, I will import the libraries that I plan to use\n",
        "\n",
        "*   Pandas- for analyzing data, loading different file objects, deleting columns from the DataFrame\n",
        "*   Numpy- for handing arrays\n",
        "*   Seaborn- for data visualization\n"
      ],
      "metadata": {
        "id": "xPiYDygABf_5"
      }
    },
    {
      "cell_type": "code",
      "execution_count": null,
      "metadata": {
        "id": "n41uf_mH-NqP"
      },
      "outputs": [],
      "source": [
        "import pandas as pd\n",
        "import numpy as np\n",
        "import seaborn as sns"
      ]
    },
    {
      "cell_type": "markdown",
      "source": [
        "Next, I will load my dataset \"Food Supply Quantity.\" I will create a varaiable out of the dataset and name it 'df'"
      ],
      "metadata": {
        "id": "APpvuneryn-7"
      }
    },
    {
      "cell_type": "code",
      "source": [
        "df = pd.read_csv('/content/Food_Supply_Quantity_kg_Data.csv')\n",
        "df"
      ],
      "metadata": {
        "colab": {
          "base_uri": "https://localhost:8080/",
          "height": 609
        },
        "id": "v31Y8UUK-USE",
        "outputId": "83f4e1ea-7e61-4ea2-f318-4e1176b9c4bd"
      },
      "execution_count": null,
      "outputs": [
        {
          "output_type": "execute_result",
          "data": {
            "text/plain": [
              "                                Country  Alcoholic Beverages  Animal fats  \\\n",
              "0                           Afghanistan               0.0014       0.1973   \n",
              "1                               Albania               1.6719       0.1357   \n",
              "2                               Algeria               0.2711       0.0282   \n",
              "3                                Angola               5.8087       0.0560   \n",
              "4                   Antigua and Barbuda               3.5764       0.0087   \n",
              "..                                  ...                  ...          ...   \n",
              "165  Venezuela (Bolivarian Republic of)               2.5952       0.0403   \n",
              "166                             Vietnam               1.4591       0.1640   \n",
              "167                               Yemen               0.0364       0.0446   \n",
              "168                              Zambia               5.7360       0.0829   \n",
              "169                            Zimbabwe               4.0552       0.0755   \n",
              "\n",
              "     Animal Products  Aquatic Products, Other  Cereals - Excluding Beer  \\\n",
              "0             9.4341                   0.0000                   24.8097   \n",
              "1            18.7684                   0.0000                    5.7817   \n",
              "2             9.6334                   0.0000                   13.6816   \n",
              "3             4.9278                   0.0000                    9.1085   \n",
              "4            16.6613                   0.0000                    5.9960   \n",
              "..               ...                      ...                       ...   \n",
              "165          14.7565                   0.0000                   12.9253   \n",
              "166           8.5765                   0.0042                   16.8740   \n",
              "167           5.7874                   0.0000                   27.2077   \n",
              "168           6.0197                   0.0000                   21.1938   \n",
              "169           8.1489                   0.0000                   22.6240   \n",
              "\n",
              "       Eggs  Fish, Seafood  Fruits - Excluding Wine    Meat  ...  Vegetables  \\\n",
              "0    0.2099         0.0350                   5.3495  1.2020  ...      6.7642   \n",
              "1    0.5815         0.2126                   6.7861  1.8845  ...     11.7753   \n",
              "2    0.5277         0.2416                   6.3801  1.1305  ...     11.6484   \n",
              "3    0.0587         1.7707                   6.0005  2.0571  ...      2.3041   \n",
              "4    0.2274         4.1489                  10.7451  5.6888  ...      5.4495   \n",
              "..      ...            ...                      ...     ...  ...         ...   \n",
              "165  0.3389         0.9456                   7.6460  3.8328  ...      4.1474   \n",
              "166  0.3077         2.6392                   5.9029  4.4382  ...     11.9508   \n",
              "167  0.2579         0.5240                   5.1344  2.7871  ...      3.2135   \n",
              "168  0.3399         1.6924                   1.0183  1.8427  ...      3.4649   \n",
              "169  0.2678         0.5518                   2.2000  2.6142  ...      2.3213   \n",
              "\n",
              "     Vegetal Products  Obesity  Undernourished  Confirmed    Deaths  \\\n",
              "0             40.5645      4.5            29.8   0.142134  0.006186   \n",
              "1             31.2304     22.3             6.2   2.967301  0.050951   \n",
              "2             40.3651     26.6             3.9   0.244897  0.006558   \n",
              "3             45.0722      6.8              25   0.061687  0.001461   \n",
              "4             33.3233     19.1             NaN   0.293878  0.007143   \n",
              "..                ...      ...             ...        ...       ...   \n",
              "165           35.2416     25.2            21.2   0.452585  0.004287   \n",
              "166           41.4232      2.1             9.3   0.002063  0.000036   \n",
              "167           44.2126     14.1            38.9   0.007131  0.002062   \n",
              "168           43.9789      6.5            46.7   0.334133  0.004564   \n",
              "169           41.8526     12.3            51.3   0.232033  0.008854   \n",
              "\n",
              "     Recovered    Active  Population  Unit (all except Population)  \n",
              "0     0.123374  0.012574  38928000.0                             %  \n",
              "1     1.792636  1.123714   2838000.0                             %  \n",
              "2     0.167572  0.070767  44357000.0                             %  \n",
              "3     0.056808  0.003419  32522000.0                             %  \n",
              "4     0.190816  0.095918     98000.0                             %  \n",
              "..         ...       ...         ...                           ...  \n",
              "165   0.424399  0.023899  28645000.0                             %  \n",
              "166   0.001526  0.000501  96209000.0                             %  \n",
              "167   0.004788  0.000282  29826000.0                             %  \n",
              "168   0.290524  0.039045  18384000.0                             %  \n",
              "169   0.190964  0.032214  14863000.0                             %  \n",
              "\n",
              "[170 rows x 32 columns]"
            ],
            "text/html": [
              "\n",
              "  <div id=\"df-f80fe3ce-6885-4956-85d0-3a968ba329ee\">\n",
              "    <div class=\"colab-df-container\">\n",
              "      <div>\n",
              "<style scoped>\n",
              "    .dataframe tbody tr th:only-of-type {\n",
              "        vertical-align: middle;\n",
              "    }\n",
              "\n",
              "    .dataframe tbody tr th {\n",
              "        vertical-align: top;\n",
              "    }\n",
              "\n",
              "    .dataframe thead th {\n",
              "        text-align: right;\n",
              "    }\n",
              "</style>\n",
              "<table border=\"1\" class=\"dataframe\">\n",
              "  <thead>\n",
              "    <tr style=\"text-align: right;\">\n",
              "      <th></th>\n",
              "      <th>Country</th>\n",
              "      <th>Alcoholic Beverages</th>\n",
              "      <th>Animal fats</th>\n",
              "      <th>Animal Products</th>\n",
              "      <th>Aquatic Products, Other</th>\n",
              "      <th>Cereals - Excluding Beer</th>\n",
              "      <th>Eggs</th>\n",
              "      <th>Fish, Seafood</th>\n",
              "      <th>Fruits - Excluding Wine</th>\n",
              "      <th>Meat</th>\n",
              "      <th>...</th>\n",
              "      <th>Vegetables</th>\n",
              "      <th>Vegetal Products</th>\n",
              "      <th>Obesity</th>\n",
              "      <th>Undernourished</th>\n",
              "      <th>Confirmed</th>\n",
              "      <th>Deaths</th>\n",
              "      <th>Recovered</th>\n",
              "      <th>Active</th>\n",
              "      <th>Population</th>\n",
              "      <th>Unit (all except Population)</th>\n",
              "    </tr>\n",
              "  </thead>\n",
              "  <tbody>\n",
              "    <tr>\n",
              "      <th>0</th>\n",
              "      <td>Afghanistan</td>\n",
              "      <td>0.0014</td>\n",
              "      <td>0.1973</td>\n",
              "      <td>9.4341</td>\n",
              "      <td>0.0000</td>\n",
              "      <td>24.8097</td>\n",
              "      <td>0.2099</td>\n",
              "      <td>0.0350</td>\n",
              "      <td>5.3495</td>\n",
              "      <td>1.2020</td>\n",
              "      <td>...</td>\n",
              "      <td>6.7642</td>\n",
              "      <td>40.5645</td>\n",
              "      <td>4.5</td>\n",
              "      <td>29.8</td>\n",
              "      <td>0.142134</td>\n",
              "      <td>0.006186</td>\n",
              "      <td>0.123374</td>\n",
              "      <td>0.012574</td>\n",
              "      <td>38928000.0</td>\n",
              "      <td>%</td>\n",
              "    </tr>\n",
              "    <tr>\n",
              "      <th>1</th>\n",
              "      <td>Albania</td>\n",
              "      <td>1.6719</td>\n",
              "      <td>0.1357</td>\n",
              "      <td>18.7684</td>\n",
              "      <td>0.0000</td>\n",
              "      <td>5.7817</td>\n",
              "      <td>0.5815</td>\n",
              "      <td>0.2126</td>\n",
              "      <td>6.7861</td>\n",
              "      <td>1.8845</td>\n",
              "      <td>...</td>\n",
              "      <td>11.7753</td>\n",
              "      <td>31.2304</td>\n",
              "      <td>22.3</td>\n",
              "      <td>6.2</td>\n",
              "      <td>2.967301</td>\n",
              "      <td>0.050951</td>\n",
              "      <td>1.792636</td>\n",
              "      <td>1.123714</td>\n",
              "      <td>2838000.0</td>\n",
              "      <td>%</td>\n",
              "    </tr>\n",
              "    <tr>\n",
              "      <th>2</th>\n",
              "      <td>Algeria</td>\n",
              "      <td>0.2711</td>\n",
              "      <td>0.0282</td>\n",
              "      <td>9.6334</td>\n",
              "      <td>0.0000</td>\n",
              "      <td>13.6816</td>\n",
              "      <td>0.5277</td>\n",
              "      <td>0.2416</td>\n",
              "      <td>6.3801</td>\n",
              "      <td>1.1305</td>\n",
              "      <td>...</td>\n",
              "      <td>11.6484</td>\n",
              "      <td>40.3651</td>\n",
              "      <td>26.6</td>\n",
              "      <td>3.9</td>\n",
              "      <td>0.244897</td>\n",
              "      <td>0.006558</td>\n",
              "      <td>0.167572</td>\n",
              "      <td>0.070767</td>\n",
              "      <td>44357000.0</td>\n",
              "      <td>%</td>\n",
              "    </tr>\n",
              "    <tr>\n",
              "      <th>3</th>\n",
              "      <td>Angola</td>\n",
              "      <td>5.8087</td>\n",
              "      <td>0.0560</td>\n",
              "      <td>4.9278</td>\n",
              "      <td>0.0000</td>\n",
              "      <td>9.1085</td>\n",
              "      <td>0.0587</td>\n",
              "      <td>1.7707</td>\n",
              "      <td>6.0005</td>\n",
              "      <td>2.0571</td>\n",
              "      <td>...</td>\n",
              "      <td>2.3041</td>\n",
              "      <td>45.0722</td>\n",
              "      <td>6.8</td>\n",
              "      <td>25</td>\n",
              "      <td>0.061687</td>\n",
              "      <td>0.001461</td>\n",
              "      <td>0.056808</td>\n",
              "      <td>0.003419</td>\n",
              "      <td>32522000.0</td>\n",
              "      <td>%</td>\n",
              "    </tr>\n",
              "    <tr>\n",
              "      <th>4</th>\n",
              "      <td>Antigua and Barbuda</td>\n",
              "      <td>3.5764</td>\n",
              "      <td>0.0087</td>\n",
              "      <td>16.6613</td>\n",
              "      <td>0.0000</td>\n",
              "      <td>5.9960</td>\n",
              "      <td>0.2274</td>\n",
              "      <td>4.1489</td>\n",
              "      <td>10.7451</td>\n",
              "      <td>5.6888</td>\n",
              "      <td>...</td>\n",
              "      <td>5.4495</td>\n",
              "      <td>33.3233</td>\n",
              "      <td>19.1</td>\n",
              "      <td>NaN</td>\n",
              "      <td>0.293878</td>\n",
              "      <td>0.007143</td>\n",
              "      <td>0.190816</td>\n",
              "      <td>0.095918</td>\n",
              "      <td>98000.0</td>\n",
              "      <td>%</td>\n",
              "    </tr>\n",
              "    <tr>\n",
              "      <th>...</th>\n",
              "      <td>...</td>\n",
              "      <td>...</td>\n",
              "      <td>...</td>\n",
              "      <td>...</td>\n",
              "      <td>...</td>\n",
              "      <td>...</td>\n",
              "      <td>...</td>\n",
              "      <td>...</td>\n",
              "      <td>...</td>\n",
              "      <td>...</td>\n",
              "      <td>...</td>\n",
              "      <td>...</td>\n",
              "      <td>...</td>\n",
              "      <td>...</td>\n",
              "      <td>...</td>\n",
              "      <td>...</td>\n",
              "      <td>...</td>\n",
              "      <td>...</td>\n",
              "      <td>...</td>\n",
              "      <td>...</td>\n",
              "      <td>...</td>\n",
              "    </tr>\n",
              "    <tr>\n",
              "      <th>165</th>\n",
              "      <td>Venezuela (Bolivarian Republic of)</td>\n",
              "      <td>2.5952</td>\n",
              "      <td>0.0403</td>\n",
              "      <td>14.7565</td>\n",
              "      <td>0.0000</td>\n",
              "      <td>12.9253</td>\n",
              "      <td>0.3389</td>\n",
              "      <td>0.9456</td>\n",
              "      <td>7.6460</td>\n",
              "      <td>3.8328</td>\n",
              "      <td>...</td>\n",
              "      <td>4.1474</td>\n",
              "      <td>35.2416</td>\n",
              "      <td>25.2</td>\n",
              "      <td>21.2</td>\n",
              "      <td>0.452585</td>\n",
              "      <td>0.004287</td>\n",
              "      <td>0.424399</td>\n",
              "      <td>0.023899</td>\n",
              "      <td>28645000.0</td>\n",
              "      <td>%</td>\n",
              "    </tr>\n",
              "    <tr>\n",
              "      <th>166</th>\n",
              "      <td>Vietnam</td>\n",
              "      <td>1.4591</td>\n",
              "      <td>0.1640</td>\n",
              "      <td>8.5765</td>\n",
              "      <td>0.0042</td>\n",
              "      <td>16.8740</td>\n",
              "      <td>0.3077</td>\n",
              "      <td>2.6392</td>\n",
              "      <td>5.9029</td>\n",
              "      <td>4.4382</td>\n",
              "      <td>...</td>\n",
              "      <td>11.9508</td>\n",
              "      <td>41.4232</td>\n",
              "      <td>2.1</td>\n",
              "      <td>9.3</td>\n",
              "      <td>0.002063</td>\n",
              "      <td>0.000036</td>\n",
              "      <td>0.001526</td>\n",
              "      <td>0.000501</td>\n",
              "      <td>96209000.0</td>\n",
              "      <td>%</td>\n",
              "    </tr>\n",
              "    <tr>\n",
              "      <th>167</th>\n",
              "      <td>Yemen</td>\n",
              "      <td>0.0364</td>\n",
              "      <td>0.0446</td>\n",
              "      <td>5.7874</td>\n",
              "      <td>0.0000</td>\n",
              "      <td>27.2077</td>\n",
              "      <td>0.2579</td>\n",
              "      <td>0.5240</td>\n",
              "      <td>5.1344</td>\n",
              "      <td>2.7871</td>\n",
              "      <td>...</td>\n",
              "      <td>3.2135</td>\n",
              "      <td>44.2126</td>\n",
              "      <td>14.1</td>\n",
              "      <td>38.9</td>\n",
              "      <td>0.007131</td>\n",
              "      <td>0.002062</td>\n",
              "      <td>0.004788</td>\n",
              "      <td>0.000282</td>\n",
              "      <td>29826000.0</td>\n",
              "      <td>%</td>\n",
              "    </tr>\n",
              "    <tr>\n",
              "      <th>168</th>\n",
              "      <td>Zambia</td>\n",
              "      <td>5.7360</td>\n",
              "      <td>0.0829</td>\n",
              "      <td>6.0197</td>\n",
              "      <td>0.0000</td>\n",
              "      <td>21.1938</td>\n",
              "      <td>0.3399</td>\n",
              "      <td>1.6924</td>\n",
              "      <td>1.0183</td>\n",
              "      <td>1.8427</td>\n",
              "      <td>...</td>\n",
              "      <td>3.4649</td>\n",
              "      <td>43.9789</td>\n",
              "      <td>6.5</td>\n",
              "      <td>46.7</td>\n",
              "      <td>0.334133</td>\n",
              "      <td>0.004564</td>\n",
              "      <td>0.290524</td>\n",
              "      <td>0.039045</td>\n",
              "      <td>18384000.0</td>\n",
              "      <td>%</td>\n",
              "    </tr>\n",
              "    <tr>\n",
              "      <th>169</th>\n",
              "      <td>Zimbabwe</td>\n",
              "      <td>4.0552</td>\n",
              "      <td>0.0755</td>\n",
              "      <td>8.1489</td>\n",
              "      <td>0.0000</td>\n",
              "      <td>22.6240</td>\n",
              "      <td>0.2678</td>\n",
              "      <td>0.5518</td>\n",
              "      <td>2.2000</td>\n",
              "      <td>2.6142</td>\n",
              "      <td>...</td>\n",
              "      <td>2.3213</td>\n",
              "      <td>41.8526</td>\n",
              "      <td>12.3</td>\n",
              "      <td>51.3</td>\n",
              "      <td>0.232033</td>\n",
              "      <td>0.008854</td>\n",
              "      <td>0.190964</td>\n",
              "      <td>0.032214</td>\n",
              "      <td>14863000.0</td>\n",
              "      <td>%</td>\n",
              "    </tr>\n",
              "  </tbody>\n",
              "</table>\n",
              "<p>170 rows × 32 columns</p>\n",
              "</div>\n",
              "      <button class=\"colab-df-convert\" onclick=\"convertToInteractive('df-f80fe3ce-6885-4956-85d0-3a968ba329ee')\"\n",
              "              title=\"Convert this dataframe to an interactive table.\"\n",
              "              style=\"display:none;\">\n",
              "        \n",
              "  <svg xmlns=\"http://www.w3.org/2000/svg\" height=\"24px\"viewBox=\"0 0 24 24\"\n",
              "       width=\"24px\">\n",
              "    <path d=\"M0 0h24v24H0V0z\" fill=\"none\"/>\n",
              "    <path d=\"M18.56 5.44l.94 2.06.94-2.06 2.06-.94-2.06-.94-.94-2.06-.94 2.06-2.06.94zm-11 1L8.5 8.5l.94-2.06 2.06-.94-2.06-.94L8.5 2.5l-.94 2.06-2.06.94zm10 10l.94 2.06.94-2.06 2.06-.94-2.06-.94-.94-2.06-.94 2.06-2.06.94z\"/><path d=\"M17.41 7.96l-1.37-1.37c-.4-.4-.92-.59-1.43-.59-.52 0-1.04.2-1.43.59L10.3 9.45l-7.72 7.72c-.78.78-.78 2.05 0 2.83L4 21.41c.39.39.9.59 1.41.59.51 0 1.02-.2 1.41-.59l7.78-7.78 2.81-2.81c.8-.78.8-2.07 0-2.86zM5.41 20L4 18.59l7.72-7.72 1.47 1.35L5.41 20z\"/>\n",
              "  </svg>\n",
              "      </button>\n",
              "      \n",
              "  <style>\n",
              "    .colab-df-container {\n",
              "      display:flex;\n",
              "      flex-wrap:wrap;\n",
              "      gap: 12px;\n",
              "    }\n",
              "\n",
              "    .colab-df-convert {\n",
              "      background-color: #E8F0FE;\n",
              "      border: none;\n",
              "      border-radius: 50%;\n",
              "      cursor: pointer;\n",
              "      display: none;\n",
              "      fill: #1967D2;\n",
              "      height: 32px;\n",
              "      padding: 0 0 0 0;\n",
              "      width: 32px;\n",
              "    }\n",
              "\n",
              "    .colab-df-convert:hover {\n",
              "      background-color: #E2EBFA;\n",
              "      box-shadow: 0px 1px 2px rgba(60, 64, 67, 0.3), 0px 1px 3px 1px rgba(60, 64, 67, 0.15);\n",
              "      fill: #174EA6;\n",
              "    }\n",
              "\n",
              "    [theme=dark] .colab-df-convert {\n",
              "      background-color: #3B4455;\n",
              "      fill: #D2E3FC;\n",
              "    }\n",
              "\n",
              "    [theme=dark] .colab-df-convert:hover {\n",
              "      background-color: #434B5C;\n",
              "      box-shadow: 0px 1px 3px 1px rgba(0, 0, 0, 0.15);\n",
              "      filter: drop-shadow(0px 1px 2px rgba(0, 0, 0, 0.3));\n",
              "      fill: #FFFFFF;\n",
              "    }\n",
              "  </style>\n",
              "\n",
              "      <script>\n",
              "        const buttonEl =\n",
              "          document.querySelector('#df-f80fe3ce-6885-4956-85d0-3a968ba329ee button.colab-df-convert');\n",
              "        buttonEl.style.display =\n",
              "          google.colab.kernel.accessAllowed ? 'block' : 'none';\n",
              "\n",
              "        async function convertToInteractive(key) {\n",
              "          const element = document.querySelector('#df-f80fe3ce-6885-4956-85d0-3a968ba329ee');\n",
              "          const dataTable =\n",
              "            await google.colab.kernel.invokeFunction('convertToInteractive',\n",
              "                                                     [key], {});\n",
              "          if (!dataTable) return;\n",
              "\n",
              "          const docLinkHtml = 'Like what you see? Visit the ' +\n",
              "            '<a target=\"_blank\" href=https://colab.research.google.com/notebooks/data_table.ipynb>data table notebook</a>'\n",
              "            + ' to learn more about interactive tables.';\n",
              "          element.innerHTML = '';\n",
              "          dataTable['output_type'] = 'display_data';\n",
              "          await google.colab.output.renderOutput(dataTable, element);\n",
              "          const docLink = document.createElement('div');\n",
              "          docLink.innerHTML = docLinkHtml;\n",
              "          element.appendChild(docLink);\n",
              "        }\n",
              "      </script>\n",
              "    </div>\n",
              "  </div>\n",
              "  "
            ]
          },
          "metadata": {},
          "execution_count": 24
        }
      ]
    },
    {
      "cell_type": "markdown",
      "source": [
        "I will now begin exploratory data analysis where I seek to explore and understand the data"
      ],
      "metadata": {
        "id": "vvrp9hv7CP0H"
      }
    },
    {
      "cell_type": "markdown",
      "source": [
        "I will use the Head() Method to return the top five rows in my dataset. This will show me each column name"
      ],
      "metadata": {
        "id": "yGi_MT4aCqB0"
      }
    },
    {
      "cell_type": "code",
      "source": [
        "df.head()"
      ],
      "metadata": {
        "colab": {
          "base_uri": "https://localhost:8080/",
          "height": 369
        },
        "id": "vFS9GvsYFUbR",
        "outputId": "8de0e061-c945-4459-e8c4-4fb3fb8ea44f"
      },
      "execution_count": null,
      "outputs": [
        {
          "output_type": "execute_result",
          "data": {
            "text/plain": [
              "               Country  Alcoholic Beverages  Animal fats  Animal Products  \\\n",
              "0          Afghanistan               0.0014       0.1973           9.4341   \n",
              "1              Albania               1.6719       0.1357          18.7684   \n",
              "2              Algeria               0.2711       0.0282           9.6334   \n",
              "3               Angola               5.8087       0.0560           4.9278   \n",
              "4  Antigua and Barbuda               3.5764       0.0087          16.6613   \n",
              "\n",
              "   Aquatic Products, Other  Cereals - Excluding Beer    Eggs  Fish, Seafood  \\\n",
              "0                      0.0                   24.8097  0.2099         0.0350   \n",
              "1                      0.0                    5.7817  0.5815         0.2126   \n",
              "2                      0.0                   13.6816  0.5277         0.2416   \n",
              "3                      0.0                    9.1085  0.0587         1.7707   \n",
              "4                      0.0                    5.9960  0.2274         4.1489   \n",
              "\n",
              "   Fruits - Excluding Wine    Meat  ...  Vegetables  Vegetal Products  \\\n",
              "0                   5.3495  1.2020  ...      6.7642           40.5645   \n",
              "1                   6.7861  1.8845  ...     11.7753           31.2304   \n",
              "2                   6.3801  1.1305  ...     11.6484           40.3651   \n",
              "3                   6.0005  2.0571  ...      2.3041           45.0722   \n",
              "4                  10.7451  5.6888  ...      5.4495           33.3233   \n",
              "\n",
              "   Obesity  Undernourished  Confirmed    Deaths  Recovered    Active  \\\n",
              "0      4.5            29.8   0.142134  0.006186   0.123374  0.012574   \n",
              "1     22.3             6.2   2.967301  0.050951   1.792636  1.123714   \n",
              "2     26.6             3.9   0.244897  0.006558   0.167572  0.070767   \n",
              "3      6.8              25   0.061687  0.001461   0.056808  0.003419   \n",
              "4     19.1             NaN   0.293878  0.007143   0.190816  0.095918   \n",
              "\n",
              "   Population  Unit (all except Population)  \n",
              "0  38928000.0                             %  \n",
              "1   2838000.0                             %  \n",
              "2  44357000.0                             %  \n",
              "3  32522000.0                             %  \n",
              "4     98000.0                             %  \n",
              "\n",
              "[5 rows x 32 columns]"
            ],
            "text/html": [
              "\n",
              "  <div id=\"df-9e46580d-075e-486f-ba30-a3f61b6934d5\">\n",
              "    <div class=\"colab-df-container\">\n",
              "      <div>\n",
              "<style scoped>\n",
              "    .dataframe tbody tr th:only-of-type {\n",
              "        vertical-align: middle;\n",
              "    }\n",
              "\n",
              "    .dataframe tbody tr th {\n",
              "        vertical-align: top;\n",
              "    }\n",
              "\n",
              "    .dataframe thead th {\n",
              "        text-align: right;\n",
              "    }\n",
              "</style>\n",
              "<table border=\"1\" class=\"dataframe\">\n",
              "  <thead>\n",
              "    <tr style=\"text-align: right;\">\n",
              "      <th></th>\n",
              "      <th>Country</th>\n",
              "      <th>Alcoholic Beverages</th>\n",
              "      <th>Animal fats</th>\n",
              "      <th>Animal Products</th>\n",
              "      <th>Aquatic Products, Other</th>\n",
              "      <th>Cereals - Excluding Beer</th>\n",
              "      <th>Eggs</th>\n",
              "      <th>Fish, Seafood</th>\n",
              "      <th>Fruits - Excluding Wine</th>\n",
              "      <th>Meat</th>\n",
              "      <th>...</th>\n",
              "      <th>Vegetables</th>\n",
              "      <th>Vegetal Products</th>\n",
              "      <th>Obesity</th>\n",
              "      <th>Undernourished</th>\n",
              "      <th>Confirmed</th>\n",
              "      <th>Deaths</th>\n",
              "      <th>Recovered</th>\n",
              "      <th>Active</th>\n",
              "      <th>Population</th>\n",
              "      <th>Unit (all except Population)</th>\n",
              "    </tr>\n",
              "  </thead>\n",
              "  <tbody>\n",
              "    <tr>\n",
              "      <th>0</th>\n",
              "      <td>Afghanistan</td>\n",
              "      <td>0.0014</td>\n",
              "      <td>0.1973</td>\n",
              "      <td>9.4341</td>\n",
              "      <td>0.0</td>\n",
              "      <td>24.8097</td>\n",
              "      <td>0.2099</td>\n",
              "      <td>0.0350</td>\n",
              "      <td>5.3495</td>\n",
              "      <td>1.2020</td>\n",
              "      <td>...</td>\n",
              "      <td>6.7642</td>\n",
              "      <td>40.5645</td>\n",
              "      <td>4.5</td>\n",
              "      <td>29.8</td>\n",
              "      <td>0.142134</td>\n",
              "      <td>0.006186</td>\n",
              "      <td>0.123374</td>\n",
              "      <td>0.012574</td>\n",
              "      <td>38928000.0</td>\n",
              "      <td>%</td>\n",
              "    </tr>\n",
              "    <tr>\n",
              "      <th>1</th>\n",
              "      <td>Albania</td>\n",
              "      <td>1.6719</td>\n",
              "      <td>0.1357</td>\n",
              "      <td>18.7684</td>\n",
              "      <td>0.0</td>\n",
              "      <td>5.7817</td>\n",
              "      <td>0.5815</td>\n",
              "      <td>0.2126</td>\n",
              "      <td>6.7861</td>\n",
              "      <td>1.8845</td>\n",
              "      <td>...</td>\n",
              "      <td>11.7753</td>\n",
              "      <td>31.2304</td>\n",
              "      <td>22.3</td>\n",
              "      <td>6.2</td>\n",
              "      <td>2.967301</td>\n",
              "      <td>0.050951</td>\n",
              "      <td>1.792636</td>\n",
              "      <td>1.123714</td>\n",
              "      <td>2838000.0</td>\n",
              "      <td>%</td>\n",
              "    </tr>\n",
              "    <tr>\n",
              "      <th>2</th>\n",
              "      <td>Algeria</td>\n",
              "      <td>0.2711</td>\n",
              "      <td>0.0282</td>\n",
              "      <td>9.6334</td>\n",
              "      <td>0.0</td>\n",
              "      <td>13.6816</td>\n",
              "      <td>0.5277</td>\n",
              "      <td>0.2416</td>\n",
              "      <td>6.3801</td>\n",
              "      <td>1.1305</td>\n",
              "      <td>...</td>\n",
              "      <td>11.6484</td>\n",
              "      <td>40.3651</td>\n",
              "      <td>26.6</td>\n",
              "      <td>3.9</td>\n",
              "      <td>0.244897</td>\n",
              "      <td>0.006558</td>\n",
              "      <td>0.167572</td>\n",
              "      <td>0.070767</td>\n",
              "      <td>44357000.0</td>\n",
              "      <td>%</td>\n",
              "    </tr>\n",
              "    <tr>\n",
              "      <th>3</th>\n",
              "      <td>Angola</td>\n",
              "      <td>5.8087</td>\n",
              "      <td>0.0560</td>\n",
              "      <td>4.9278</td>\n",
              "      <td>0.0</td>\n",
              "      <td>9.1085</td>\n",
              "      <td>0.0587</td>\n",
              "      <td>1.7707</td>\n",
              "      <td>6.0005</td>\n",
              "      <td>2.0571</td>\n",
              "      <td>...</td>\n",
              "      <td>2.3041</td>\n",
              "      <td>45.0722</td>\n",
              "      <td>6.8</td>\n",
              "      <td>25</td>\n",
              "      <td>0.061687</td>\n",
              "      <td>0.001461</td>\n",
              "      <td>0.056808</td>\n",
              "      <td>0.003419</td>\n",
              "      <td>32522000.0</td>\n",
              "      <td>%</td>\n",
              "    </tr>\n",
              "    <tr>\n",
              "      <th>4</th>\n",
              "      <td>Antigua and Barbuda</td>\n",
              "      <td>3.5764</td>\n",
              "      <td>0.0087</td>\n",
              "      <td>16.6613</td>\n",
              "      <td>0.0</td>\n",
              "      <td>5.9960</td>\n",
              "      <td>0.2274</td>\n",
              "      <td>4.1489</td>\n",
              "      <td>10.7451</td>\n",
              "      <td>5.6888</td>\n",
              "      <td>...</td>\n",
              "      <td>5.4495</td>\n",
              "      <td>33.3233</td>\n",
              "      <td>19.1</td>\n",
              "      <td>NaN</td>\n",
              "      <td>0.293878</td>\n",
              "      <td>0.007143</td>\n",
              "      <td>0.190816</td>\n",
              "      <td>0.095918</td>\n",
              "      <td>98000.0</td>\n",
              "      <td>%</td>\n",
              "    </tr>\n",
              "  </tbody>\n",
              "</table>\n",
              "<p>5 rows × 32 columns</p>\n",
              "</div>\n",
              "      <button class=\"colab-df-convert\" onclick=\"convertToInteractive('df-9e46580d-075e-486f-ba30-a3f61b6934d5')\"\n",
              "              title=\"Convert this dataframe to an interactive table.\"\n",
              "              style=\"display:none;\">\n",
              "        \n",
              "  <svg xmlns=\"http://www.w3.org/2000/svg\" height=\"24px\"viewBox=\"0 0 24 24\"\n",
              "       width=\"24px\">\n",
              "    <path d=\"M0 0h24v24H0V0z\" fill=\"none\"/>\n",
              "    <path d=\"M18.56 5.44l.94 2.06.94-2.06 2.06-.94-2.06-.94-.94-2.06-.94 2.06-2.06.94zm-11 1L8.5 8.5l.94-2.06 2.06-.94-2.06-.94L8.5 2.5l-.94 2.06-2.06.94zm10 10l.94 2.06.94-2.06 2.06-.94-2.06-.94-.94-2.06-.94 2.06-2.06.94z\"/><path d=\"M17.41 7.96l-1.37-1.37c-.4-.4-.92-.59-1.43-.59-.52 0-1.04.2-1.43.59L10.3 9.45l-7.72 7.72c-.78.78-.78 2.05 0 2.83L4 21.41c.39.39.9.59 1.41.59.51 0 1.02-.2 1.41-.59l7.78-7.78 2.81-2.81c.8-.78.8-2.07 0-2.86zM5.41 20L4 18.59l7.72-7.72 1.47 1.35L5.41 20z\"/>\n",
              "  </svg>\n",
              "      </button>\n",
              "      \n",
              "  <style>\n",
              "    .colab-df-container {\n",
              "      display:flex;\n",
              "      flex-wrap:wrap;\n",
              "      gap: 12px;\n",
              "    }\n",
              "\n",
              "    .colab-df-convert {\n",
              "      background-color: #E8F0FE;\n",
              "      border: none;\n",
              "      border-radius: 50%;\n",
              "      cursor: pointer;\n",
              "      display: none;\n",
              "      fill: #1967D2;\n",
              "      height: 32px;\n",
              "      padding: 0 0 0 0;\n",
              "      width: 32px;\n",
              "    }\n",
              "\n",
              "    .colab-df-convert:hover {\n",
              "      background-color: #E2EBFA;\n",
              "      box-shadow: 0px 1px 2px rgba(60, 64, 67, 0.3), 0px 1px 3px 1px rgba(60, 64, 67, 0.15);\n",
              "      fill: #174EA6;\n",
              "    }\n",
              "\n",
              "    [theme=dark] .colab-df-convert {\n",
              "      background-color: #3B4455;\n",
              "      fill: #D2E3FC;\n",
              "    }\n",
              "\n",
              "    [theme=dark] .colab-df-convert:hover {\n",
              "      background-color: #434B5C;\n",
              "      box-shadow: 0px 1px 3px 1px rgba(0, 0, 0, 0.15);\n",
              "      filter: drop-shadow(0px 1px 2px rgba(0, 0, 0, 0.3));\n",
              "      fill: #FFFFFF;\n",
              "    }\n",
              "  </style>\n",
              "\n",
              "      <script>\n",
              "        const buttonEl =\n",
              "          document.querySelector('#df-9e46580d-075e-486f-ba30-a3f61b6934d5 button.colab-df-convert');\n",
              "        buttonEl.style.display =\n",
              "          google.colab.kernel.accessAllowed ? 'block' : 'none';\n",
              "\n",
              "        async function convertToInteractive(key) {\n",
              "          const element = document.querySelector('#df-9e46580d-075e-486f-ba30-a3f61b6934d5');\n",
              "          const dataTable =\n",
              "            await google.colab.kernel.invokeFunction('convertToInteractive',\n",
              "                                                     [key], {});\n",
              "          if (!dataTable) return;\n",
              "\n",
              "          const docLinkHtml = 'Like what you see? Visit the ' +\n",
              "            '<a target=\"_blank\" href=https://colab.research.google.com/notebooks/data_table.ipynb>data table notebook</a>'\n",
              "            + ' to learn more about interactive tables.';\n",
              "          element.innerHTML = '';\n",
              "          dataTable['output_type'] = 'display_data';\n",
              "          await google.colab.output.renderOutput(dataTable, element);\n",
              "          const docLink = document.createElement('div');\n",
              "          docLink.innerHTML = docLinkHtml;\n",
              "          element.appendChild(docLink);\n",
              "        }\n",
              "      </script>\n",
              "    </div>\n",
              "  </div>\n",
              "  "
            ]
          },
          "metadata": {},
          "execution_count": 25
        }
      ]
    },
    {
      "cell_type": "markdown",
      "source": [
        "I use Shape Method() and Info() Method to find out how many rows and columns are in my dataset\n",
        "\n"
      ],
      "metadata": {
        "id": "9u_Cfx0GFX6X"
      }
    },
    {
      "cell_type": "code",
      "source": [
        "df.shape"
      ],
      "metadata": {
        "colab": {
          "base_uri": "https://localhost:8080/"
        },
        "id": "nmQSqYPTF2No",
        "outputId": "29137204-c904-478c-f9bc-9cde1707040f"
      },
      "execution_count": null,
      "outputs": [
        {
          "output_type": "execute_result",
          "data": {
            "text/plain": [
              "(170, 32)"
            ]
          },
          "metadata": {},
          "execution_count": 26
        }
      ]
    },
    {
      "cell_type": "code",
      "source": [
        "df.info()"
      ],
      "metadata": {
        "colab": {
          "base_uri": "https://localhost:8080/"
        },
        "id": "KYmbLuzhFZgC",
        "outputId": "2b8187e6-3226-46bb-8831-fd514b6ced89"
      },
      "execution_count": null,
      "outputs": [
        {
          "output_type": "stream",
          "name": "stdout",
          "text": [
            "<class 'pandas.core.frame.DataFrame'>\n",
            "RangeIndex: 170 entries, 0 to 169\n",
            "Data columns (total 32 columns):\n",
            " #   Column                        Non-Null Count  Dtype  \n",
            "---  ------                        --------------  -----  \n",
            " 0   Country                       170 non-null    object \n",
            " 1   Alcoholic Beverages           170 non-null    float64\n",
            " 2   Animal fats                   170 non-null    float64\n",
            " 3   Animal Products               170 non-null    float64\n",
            " 4   Aquatic Products, Other       170 non-null    float64\n",
            " 5   Cereals - Excluding Beer      170 non-null    float64\n",
            " 6   Eggs                          170 non-null    float64\n",
            " 7   Fish, Seafood                 170 non-null    float64\n",
            " 8   Fruits - Excluding Wine       170 non-null    float64\n",
            " 9   Meat                          170 non-null    float64\n",
            " 10  Milk - Excluding Butter       170 non-null    float64\n",
            " 11  Miscellaneous                 170 non-null    float64\n",
            " 12  Offals                        170 non-null    float64\n",
            " 13  Oilcrops                      170 non-null    float64\n",
            " 14  Pulses                        170 non-null    float64\n",
            " 15  Spices                        170 non-null    float64\n",
            " 16  Starchy Roots                 170 non-null    float64\n",
            " 17  Stimulants                    170 non-null    float64\n",
            " 18  Sugar & Sweeteners            170 non-null    float64\n",
            " 19  Sugar Crops                   170 non-null    float64\n",
            " 20  Treenuts                      170 non-null    float64\n",
            " 21  Vegetable Oils                170 non-null    float64\n",
            " 22  Vegetables                    170 non-null    float64\n",
            " 23  Vegetal Products              170 non-null    float64\n",
            " 24  Obesity                       167 non-null    float64\n",
            " 25  Undernourished                163 non-null    object \n",
            " 26  Confirmed                     164 non-null    float64\n",
            " 27  Deaths                        164 non-null    float64\n",
            " 28  Recovered                     164 non-null    float64\n",
            " 29  Active                        162 non-null    float64\n",
            " 30  Population                    170 non-null    float64\n",
            " 31  Unit (all except Population)  170 non-null    object \n",
            "dtypes: float64(29), object(3)\n",
            "memory usage: 42.6+ KB\n"
          ]
        }
      ]
    },
    {
      "cell_type": "markdown",
      "source": [
        "From the Info() Method I see that there are some null values so I use df.isnull().sum to confirm the number of null values. I take a look at the raw data and see that there are NA where there should be a number. Even if a category doesn't apply there should be a 0 rather than NA"
      ],
      "metadata": {
        "id": "kUtmI9JKlayK"
      }
    },
    {
      "cell_type": "code",
      "source": [
        "df.isnull().sum()"
      ],
      "metadata": {
        "colab": {
          "base_uri": "https://localhost:8080/"
        },
        "id": "gwug0IBOkzOD",
        "outputId": "de62eb1c-5253-419d-882e-fe8f623feec2"
      },
      "execution_count": null,
      "outputs": [
        {
          "output_type": "execute_result",
          "data": {
            "text/plain": [
              "Country                         0\n",
              "Alcoholic Beverages             0\n",
              "Animal fats                     0\n",
              "Animal Products                 0\n",
              "Aquatic Products, Other         0\n",
              "Cereals - Excluding Beer        0\n",
              "Eggs                            0\n",
              "Fish, Seafood                   0\n",
              "Fruits - Excluding Wine         0\n",
              "Meat                            0\n",
              "Milk - Excluding Butter         0\n",
              "Miscellaneous                   0\n",
              "Offals                          0\n",
              "Oilcrops                        0\n",
              "Pulses                          0\n",
              "Spices                          0\n",
              "Starchy Roots                   0\n",
              "Stimulants                      0\n",
              "Sugar & Sweeteners              0\n",
              "Sugar Crops                     0\n",
              "Treenuts                        0\n",
              "Vegetable Oils                  0\n",
              "Vegetables                      0\n",
              "Vegetal Products                0\n",
              "Obesity                         3\n",
              "Undernourished                  7\n",
              "Confirmed                       6\n",
              "Deaths                          6\n",
              "Recovered                       6\n",
              "Active                          8\n",
              "Population                      0\n",
              "Unit (all except Population)    0\n",
              "dtype: int64"
            ]
          },
          "metadata": {},
          "execution_count": 28
        }
      ]
    },
    {
      "cell_type": "markdown",
      "source": [
        "I will fill the NAs in the obesity, undernourished, confirmed, deaths, recovered, and active columns with the mean of each respective column using Mean() Method"
      ],
      "metadata": {
        "id": "wIGRnlKel-Aa"
      }
    },
    {
      "cell_type": "code",
      "source": [
        "mean_value=df['Obesity'].mean()"
      ],
      "metadata": {
        "id": "DgO0NY0Sm4kD"
      },
      "execution_count": null,
      "outputs": []
    },
    {
      "cell_type": "code",
      "source": [
        "df['Obesity'].fillna(value=mean_value, inplace=True)\n",
        "print(df['Obesity'])"
      ],
      "metadata": {
        "colab": {
          "base_uri": "https://localhost:8080/"
        },
        "id": "pq38vqSPpWh9",
        "outputId": "c91206da-3a8c-4a20-920d-9b0d6e015314"
      },
      "execution_count": null,
      "outputs": [
        {
          "output_type": "stream",
          "name": "stdout",
          "text": [
            "0       4.5\n",
            "1      22.3\n",
            "2      26.6\n",
            "3       6.8\n",
            "4      19.1\n",
            "       ... \n",
            "165    25.2\n",
            "166     2.1\n",
            "167    14.1\n",
            "168     6.5\n",
            "169    12.3\n",
            "Name: Obesity, Length: 170, dtype: float64\n"
          ]
        }
      ]
    },
    {
      "cell_type": "code",
      "source": [
        "mean_value=df['Confirmed'].mean()"
      ],
      "metadata": {
        "id": "7HGSX-A2p0qy"
      },
      "execution_count": null,
      "outputs": []
    },
    {
      "cell_type": "code",
      "source": [
        "df['Confirmed'].fillna(value=mean_value, inplace=True)\n",
        "print(df['Confirmed'])"
      ],
      "metadata": {
        "colab": {
          "base_uri": "https://localhost:8080/"
        },
        "id": "wVd3PQGSrnev",
        "outputId": "6702a439-41fa-42a6-c3a9-d434c37bcd37"
      },
      "execution_count": null,
      "outputs": [
        {
          "output_type": "stream",
          "name": "stdout",
          "text": [
            "0      0.142134\n",
            "1      2.967301\n",
            "2      0.244897\n",
            "3      0.061687\n",
            "4      0.293878\n",
            "         ...   \n",
            "165    0.452585\n",
            "166    0.002063\n",
            "167    0.007131\n",
            "168    0.334133\n",
            "169    0.232033\n",
            "Name: Confirmed, Length: 170, dtype: float64\n"
          ]
        }
      ]
    },
    {
      "cell_type": "markdown",
      "source": [
        "Here is where I ran into a bug. The Undernourished column is an object rather than a float therefore I couldn't concocatenate a string (not integer) to a string. So I must convert this object into a float. I will do so using to_numeric"
      ],
      "metadata": {
        "id": "ivQlSD7YuxCs"
      }
    },
    {
      "cell_type": "code",
      "source": [
        "df['Undernourished'] = pd.to_numeric(df['Undernourished'],errors = 'coerce')"
      ],
      "metadata": {
        "id": "bVJ1sLGuud1C"
      },
      "execution_count": null,
      "outputs": []
    },
    {
      "cell_type": "code",
      "source": [
        "mean_value=df['Undernourished'].mean()"
      ],
      "metadata": {
        "id": "V1T2S3P7slp8"
      },
      "execution_count": null,
      "outputs": []
    },
    {
      "cell_type": "code",
      "source": [
        "df['Undernourished'].fillna(value=mean_value, inplace=True)\n",
        "print(df['Undernourished'])"
      ],
      "metadata": {
        "colab": {
          "base_uri": "https://localhost:8080/"
        },
        "id": "zUjPhOBGslzp",
        "outputId": "3700f7f2-06ff-45ac-96d1-9889199eaec4"
      },
      "execution_count": null,
      "outputs": [
        {
          "output_type": "stream",
          "name": "stdout",
          "text": [
            "0      29.800000\n",
            "1       6.200000\n",
            "2       3.900000\n",
            "3      25.000000\n",
            "4      14.457143\n",
            "         ...    \n",
            "165    21.200000\n",
            "166     9.300000\n",
            "167    38.900000\n",
            "168    46.700000\n",
            "169    51.300000\n",
            "Name: Undernourished, Length: 170, dtype: float64\n"
          ]
        }
      ]
    },
    {
      "cell_type": "code",
      "source": [
        "mean_value=df['Deaths'].mean()"
      ],
      "metadata": {
        "id": "bfWH1bAksl2p"
      },
      "execution_count": null,
      "outputs": []
    },
    {
      "cell_type": "code",
      "source": [
        "df['Deaths'].fillna(value=mean_value, inplace=True)\n",
        "print(df['Deaths'])"
      ],
      "metadata": {
        "colab": {
          "base_uri": "https://localhost:8080/"
        },
        "id": "c6MWffU2sl6R",
        "outputId": "4e0636c1-fac1-40e3-c632-5aad19c7834b"
      },
      "execution_count": null,
      "outputs": [
        {
          "output_type": "stream",
          "name": "stdout",
          "text": [
            "0      0.006186\n",
            "1      0.050951\n",
            "2      0.006558\n",
            "3      0.001461\n",
            "4      0.007143\n",
            "         ...   \n",
            "165    0.004287\n",
            "166    0.000036\n",
            "167    0.002062\n",
            "168    0.004564\n",
            "169    0.008854\n",
            "Name: Deaths, Length: 170, dtype: float64\n"
          ]
        }
      ]
    },
    {
      "cell_type": "code",
      "source": [
        "mean_value=df['Recovered'].mean()"
      ],
      "metadata": {
        "id": "xJGSXh03sl9M"
      },
      "execution_count": null,
      "outputs": []
    },
    {
      "cell_type": "code",
      "source": [
        "df['Recovered'].fillna(value=mean_value, inplace=True)\n",
        "print(df['Recovered'])"
      ],
      "metadata": {
        "colab": {
          "base_uri": "https://localhost:8080/"
        },
        "id": "6Q83918CsmI3",
        "outputId": "3a8f6d66-7b40-4615-f2a4-0f30a29db49c"
      },
      "execution_count": null,
      "outputs": [
        {
          "output_type": "stream",
          "name": "stdout",
          "text": [
            "0      0.123374\n",
            "1      1.792636\n",
            "2      0.167572\n",
            "3      0.056808\n",
            "4      0.190816\n",
            "         ...   \n",
            "165    0.424399\n",
            "166    0.001526\n",
            "167    0.004788\n",
            "168    0.290524\n",
            "169    0.190964\n",
            "Name: Recovered, Length: 170, dtype: float64\n"
          ]
        }
      ]
    },
    {
      "cell_type": "code",
      "source": [
        "mean_value=df['Active'].mean()"
      ],
      "metadata": {
        "id": "LM9cLkidsmL_"
      },
      "execution_count": null,
      "outputs": []
    },
    {
      "cell_type": "code",
      "source": [
        "df['Active'].fillna(value=mean_value, inplace=True)\n",
        "print(df['Active'])"
      ],
      "metadata": {
        "colab": {
          "base_uri": "https://localhost:8080/"
        },
        "id": "58cfSeYxvjZ2",
        "outputId": "210bd35b-1657-4c76-db62-9bb6ad64ff84"
      },
      "execution_count": null,
      "outputs": [
        {
          "output_type": "stream",
          "name": "stdout",
          "text": [
            "0      0.012574\n",
            "1      1.123714\n",
            "2      0.070767\n",
            "3      0.003419\n",
            "4      0.095918\n",
            "         ...   \n",
            "165    0.023899\n",
            "166    0.000501\n",
            "167    0.000282\n",
            "168    0.039045\n",
            "169    0.032214\n",
            "Name: Active, Length: 170, dtype: float64\n"
          ]
        }
      ]
    },
    {
      "cell_type": "markdown",
      "source": [
        "My data is now free of null values"
      ],
      "metadata": {
        "id": "KxFtDG8qw09-"
      }
    },
    {
      "cell_type": "code",
      "source": [
        "df.isnull().sum()"
      ],
      "metadata": {
        "colab": {
          "base_uri": "https://localhost:8080/"
        },
        "id": "M8a1uwOKrwoY",
        "outputId": "8687f192-a188-4b9a-e5fe-e46765108065"
      },
      "execution_count": null,
      "outputs": [
        {
          "output_type": "execute_result",
          "data": {
            "text/plain": [
              "Country                         0\n",
              "Alcoholic Beverages             0\n",
              "Animal fats                     0\n",
              "Animal Products                 0\n",
              "Aquatic Products, Other         0\n",
              "Cereals - Excluding Beer        0\n",
              "Eggs                            0\n",
              "Fish, Seafood                   0\n",
              "Fruits - Excluding Wine         0\n",
              "Meat                            0\n",
              "Milk - Excluding Butter         0\n",
              "Miscellaneous                   0\n",
              "Offals                          0\n",
              "Oilcrops                        0\n",
              "Pulses                          0\n",
              "Spices                          0\n",
              "Starchy Roots                   0\n",
              "Stimulants                      0\n",
              "Sugar & Sweeteners              0\n",
              "Sugar Crops                     0\n",
              "Treenuts                        0\n",
              "Vegetable Oils                  0\n",
              "Vegetables                      0\n",
              "Vegetal Products                0\n",
              "Obesity                         0\n",
              "Undernourished                  0\n",
              "Confirmed                       0\n",
              "Deaths                          0\n",
              "Recovered                       0\n",
              "Active                          0\n",
              "Population                      0\n",
              "Unit (all except Population)    0\n",
              "dtype: int64"
            ]
          },
          "metadata": {},
          "execution_count": 42
        }
      ]
    },
    {
      "cell_type": "markdown",
      "source": [
        "I use the Columns Method to see which columns will be useful for my analysis and which are unneccesary for my analysis\n",
        "\n",
        "\n"
      ],
      "metadata": {
        "id": "x64SqBHuGMxq"
      }
    },
    {
      "cell_type": "code",
      "source": [
        "df.columns"
      ],
      "metadata": {
        "colab": {
          "base_uri": "https://localhost:8080/"
        },
        "id": "4SZBgL0sGI_G",
        "outputId": "c5d16f3c-e39c-4652-ed9f-37b2f659e4fc"
      },
      "execution_count": null,
      "outputs": [
        {
          "output_type": "execute_result",
          "data": {
            "text/plain": [
              "Index(['Country', 'Alcoholic Beverages', 'Animal fats', 'Animal Products',\n",
              "       'Aquatic Products, Other', 'Cereals - Excluding Beer', 'Eggs',\n",
              "       'Fish, Seafood', 'Fruits - Excluding Wine', 'Meat',\n",
              "       'Milk - Excluding Butter', 'Miscellaneous', 'Offals', 'Oilcrops',\n",
              "       'Pulses', 'Spices', 'Starchy Roots', 'Stimulants', 'Sugar & Sweeteners',\n",
              "       'Sugar Crops', 'Treenuts', 'Vegetable Oils', 'Vegetables',\n",
              "       'Vegetal Products', 'Obesity', 'Undernourished', 'Confirmed', 'Deaths',\n",
              "       'Recovered', 'Active', 'Population', 'Unit (all except Population)'],\n",
              "      dtype='object')"
            ]
          },
          "metadata": {},
          "execution_count": 43
        }
      ]
    },
    {
      "cell_type": "markdown",
      "source": [
        "I will drop all unneccesary columns using the Drop() Method and will use the Head() Method again to look at the first five rows of data"
      ],
      "metadata": {
        "id": "xsPJJoHQ5Be1"
      }
    },
    {
      "cell_type": "code",
      "source": [
        "diet = df.drop(['Animal fats','Aquatic Products, Other', 'Cereals - Excluding Beer', 'Eggs', 'Miscellaneous', 'Offals', 'Oilcrops', 'Pulses', 'Spices', 'Starchy Roots', 'Stimulants','Sugar Crops', 'Treenuts', 'Vegetable Oils','Vegetal Products', 'Unit (all except Population)', 'Active', 'Population'], axis = 1)\n",
        "diet.head()"
      ],
      "metadata": {
        "colab": {
          "base_uri": "https://localhost:8080/",
          "height": 340
        },
        "id": "TCzyUS2A5FIE",
        "outputId": "ba0cd5c2-2b7f-465c-d633-ece5c9c863fe"
      },
      "execution_count": null,
      "outputs": [
        {
          "output_type": "execute_result",
          "data": {
            "text/plain": [
              "               Country  Alcoholic Beverages  Animal Products  Fish, Seafood  \\\n",
              "0          Afghanistan               0.0014           9.4341         0.0350   \n",
              "1              Albania               1.6719          18.7684         0.2126   \n",
              "2              Algeria               0.2711           9.6334         0.2416   \n",
              "3               Angola               5.8087           4.9278         1.7707   \n",
              "4  Antigua and Barbuda               3.5764          16.6613         4.1489   \n",
              "\n",
              "   Fruits - Excluding Wine    Meat  Milk - Excluding Butter  \\\n",
              "0                   5.3495  1.2020                   7.5828   \n",
              "1                   6.7861  1.8845                  15.7213   \n",
              "2                   6.3801  1.1305                   7.6189   \n",
              "3                   6.0005  2.0571                   0.8311   \n",
              "4                  10.7451  5.6888                   6.3663   \n",
              "\n",
              "   Sugar & Sweeteners  Vegetables  Obesity  Undernourished  Confirmed  \\\n",
              "0              1.3489      6.7642      4.5       29.800000   0.142134   \n",
              "1              1.5367     11.7753     22.3        6.200000   2.967301   \n",
              "2              1.8342     11.6484     26.6        3.900000   0.244897   \n",
              "3              1.8495      2.3041      6.8       25.000000   0.061687   \n",
              "4              3.8749      5.4495     19.1       14.457143   0.293878   \n",
              "\n",
              "     Deaths  Recovered  \n",
              "0  0.006186   0.123374  \n",
              "1  0.050951   1.792636  \n",
              "2  0.006558   0.167572  \n",
              "3  0.001461   0.056808  \n",
              "4  0.007143   0.190816  "
            ],
            "text/html": [
              "\n",
              "  <div id=\"df-098979c2-7615-46b8-966b-98997ca25c56\">\n",
              "    <div class=\"colab-df-container\">\n",
              "      <div>\n",
              "<style scoped>\n",
              "    .dataframe tbody tr th:only-of-type {\n",
              "        vertical-align: middle;\n",
              "    }\n",
              "\n",
              "    .dataframe tbody tr th {\n",
              "        vertical-align: top;\n",
              "    }\n",
              "\n",
              "    .dataframe thead th {\n",
              "        text-align: right;\n",
              "    }\n",
              "</style>\n",
              "<table border=\"1\" class=\"dataframe\">\n",
              "  <thead>\n",
              "    <tr style=\"text-align: right;\">\n",
              "      <th></th>\n",
              "      <th>Country</th>\n",
              "      <th>Alcoholic Beverages</th>\n",
              "      <th>Animal Products</th>\n",
              "      <th>Fish, Seafood</th>\n",
              "      <th>Fruits - Excluding Wine</th>\n",
              "      <th>Meat</th>\n",
              "      <th>Milk - Excluding Butter</th>\n",
              "      <th>Sugar &amp; Sweeteners</th>\n",
              "      <th>Vegetables</th>\n",
              "      <th>Obesity</th>\n",
              "      <th>Undernourished</th>\n",
              "      <th>Confirmed</th>\n",
              "      <th>Deaths</th>\n",
              "      <th>Recovered</th>\n",
              "    </tr>\n",
              "  </thead>\n",
              "  <tbody>\n",
              "    <tr>\n",
              "      <th>0</th>\n",
              "      <td>Afghanistan</td>\n",
              "      <td>0.0014</td>\n",
              "      <td>9.4341</td>\n",
              "      <td>0.0350</td>\n",
              "      <td>5.3495</td>\n",
              "      <td>1.2020</td>\n",
              "      <td>7.5828</td>\n",
              "      <td>1.3489</td>\n",
              "      <td>6.7642</td>\n",
              "      <td>4.5</td>\n",
              "      <td>29.800000</td>\n",
              "      <td>0.142134</td>\n",
              "      <td>0.006186</td>\n",
              "      <td>0.123374</td>\n",
              "    </tr>\n",
              "    <tr>\n",
              "      <th>1</th>\n",
              "      <td>Albania</td>\n",
              "      <td>1.6719</td>\n",
              "      <td>18.7684</td>\n",
              "      <td>0.2126</td>\n",
              "      <td>6.7861</td>\n",
              "      <td>1.8845</td>\n",
              "      <td>15.7213</td>\n",
              "      <td>1.5367</td>\n",
              "      <td>11.7753</td>\n",
              "      <td>22.3</td>\n",
              "      <td>6.200000</td>\n",
              "      <td>2.967301</td>\n",
              "      <td>0.050951</td>\n",
              "      <td>1.792636</td>\n",
              "    </tr>\n",
              "    <tr>\n",
              "      <th>2</th>\n",
              "      <td>Algeria</td>\n",
              "      <td>0.2711</td>\n",
              "      <td>9.6334</td>\n",
              "      <td>0.2416</td>\n",
              "      <td>6.3801</td>\n",
              "      <td>1.1305</td>\n",
              "      <td>7.6189</td>\n",
              "      <td>1.8342</td>\n",
              "      <td>11.6484</td>\n",
              "      <td>26.6</td>\n",
              "      <td>3.900000</td>\n",
              "      <td>0.244897</td>\n",
              "      <td>0.006558</td>\n",
              "      <td>0.167572</td>\n",
              "    </tr>\n",
              "    <tr>\n",
              "      <th>3</th>\n",
              "      <td>Angola</td>\n",
              "      <td>5.8087</td>\n",
              "      <td>4.9278</td>\n",
              "      <td>1.7707</td>\n",
              "      <td>6.0005</td>\n",
              "      <td>2.0571</td>\n",
              "      <td>0.8311</td>\n",
              "      <td>1.8495</td>\n",
              "      <td>2.3041</td>\n",
              "      <td>6.8</td>\n",
              "      <td>25.000000</td>\n",
              "      <td>0.061687</td>\n",
              "      <td>0.001461</td>\n",
              "      <td>0.056808</td>\n",
              "    </tr>\n",
              "    <tr>\n",
              "      <th>4</th>\n",
              "      <td>Antigua and Barbuda</td>\n",
              "      <td>3.5764</td>\n",
              "      <td>16.6613</td>\n",
              "      <td>4.1489</td>\n",
              "      <td>10.7451</td>\n",
              "      <td>5.6888</td>\n",
              "      <td>6.3663</td>\n",
              "      <td>3.8749</td>\n",
              "      <td>5.4495</td>\n",
              "      <td>19.1</td>\n",
              "      <td>14.457143</td>\n",
              "      <td>0.293878</td>\n",
              "      <td>0.007143</td>\n",
              "      <td>0.190816</td>\n",
              "    </tr>\n",
              "  </tbody>\n",
              "</table>\n",
              "</div>\n",
              "      <button class=\"colab-df-convert\" onclick=\"convertToInteractive('df-098979c2-7615-46b8-966b-98997ca25c56')\"\n",
              "              title=\"Convert this dataframe to an interactive table.\"\n",
              "              style=\"display:none;\">\n",
              "        \n",
              "  <svg xmlns=\"http://www.w3.org/2000/svg\" height=\"24px\"viewBox=\"0 0 24 24\"\n",
              "       width=\"24px\">\n",
              "    <path d=\"M0 0h24v24H0V0z\" fill=\"none\"/>\n",
              "    <path d=\"M18.56 5.44l.94 2.06.94-2.06 2.06-.94-2.06-.94-.94-2.06-.94 2.06-2.06.94zm-11 1L8.5 8.5l.94-2.06 2.06-.94-2.06-.94L8.5 2.5l-.94 2.06-2.06.94zm10 10l.94 2.06.94-2.06 2.06-.94-2.06-.94-.94-2.06-.94 2.06-2.06.94z\"/><path d=\"M17.41 7.96l-1.37-1.37c-.4-.4-.92-.59-1.43-.59-.52 0-1.04.2-1.43.59L10.3 9.45l-7.72 7.72c-.78.78-.78 2.05 0 2.83L4 21.41c.39.39.9.59 1.41.59.51 0 1.02-.2 1.41-.59l7.78-7.78 2.81-2.81c.8-.78.8-2.07 0-2.86zM5.41 20L4 18.59l7.72-7.72 1.47 1.35L5.41 20z\"/>\n",
              "  </svg>\n",
              "      </button>\n",
              "      \n",
              "  <style>\n",
              "    .colab-df-container {\n",
              "      display:flex;\n",
              "      flex-wrap:wrap;\n",
              "      gap: 12px;\n",
              "    }\n",
              "\n",
              "    .colab-df-convert {\n",
              "      background-color: #E8F0FE;\n",
              "      border: none;\n",
              "      border-radius: 50%;\n",
              "      cursor: pointer;\n",
              "      display: none;\n",
              "      fill: #1967D2;\n",
              "      height: 32px;\n",
              "      padding: 0 0 0 0;\n",
              "      width: 32px;\n",
              "    }\n",
              "\n",
              "    .colab-df-convert:hover {\n",
              "      background-color: #E2EBFA;\n",
              "      box-shadow: 0px 1px 2px rgba(60, 64, 67, 0.3), 0px 1px 3px 1px rgba(60, 64, 67, 0.15);\n",
              "      fill: #174EA6;\n",
              "    }\n",
              "\n",
              "    [theme=dark] .colab-df-convert {\n",
              "      background-color: #3B4455;\n",
              "      fill: #D2E3FC;\n",
              "    }\n",
              "\n",
              "    [theme=dark] .colab-df-convert:hover {\n",
              "      background-color: #434B5C;\n",
              "      box-shadow: 0px 1px 3px 1px rgba(0, 0, 0, 0.15);\n",
              "      filter: drop-shadow(0px 1px 2px rgba(0, 0, 0, 0.3));\n",
              "      fill: #FFFFFF;\n",
              "    }\n",
              "  </style>\n",
              "\n",
              "      <script>\n",
              "        const buttonEl =\n",
              "          document.querySelector('#df-098979c2-7615-46b8-966b-98997ca25c56 button.colab-df-convert');\n",
              "        buttonEl.style.display =\n",
              "          google.colab.kernel.accessAllowed ? 'block' : 'none';\n",
              "\n",
              "        async function convertToInteractive(key) {\n",
              "          const element = document.querySelector('#df-098979c2-7615-46b8-966b-98997ca25c56');\n",
              "          const dataTable =\n",
              "            await google.colab.kernel.invokeFunction('convertToInteractive',\n",
              "                                                     [key], {});\n",
              "          if (!dataTable) return;\n",
              "\n",
              "          const docLinkHtml = 'Like what you see? Visit the ' +\n",
              "            '<a target=\"_blank\" href=https://colab.research.google.com/notebooks/data_table.ipynb>data table notebook</a>'\n",
              "            + ' to learn more about interactive tables.';\n",
              "          element.innerHTML = '';\n",
              "          dataTable['output_type'] = 'display_data';\n",
              "          await google.colab.output.renderOutput(dataTable, element);\n",
              "          const docLink = document.createElement('div');\n",
              "          docLink.innerHTML = docLinkHtml;\n",
              "          element.appendChild(docLink);\n",
              "        }\n",
              "      </script>\n",
              "    </div>\n",
              "  </div>\n",
              "  "
            ]
          },
          "metadata": {},
          "execution_count": 44
        }
      ]
    },
    {
      "cell_type": "markdown",
      "source": [
        "Now I will begin the testing of my hypotheses\n",
        "\n",
        "1.\tWhat is the correlation between eating vegetables and the confirmed rate of having COVID 19?\n",
        "2.\tWhat is the correlation between a pescaterian diet (fish and seafood) and the confirmed rate of having COVID 19?\n",
        "3.\tWhat is the correlation between animal product intake the confirmed rate of having COVID 19?\n",
        "\n",
        "\n",
        "\n",
        "\n"
      ],
      "metadata": {
        "id": "dLKtBoDaKrt2"
      }
    },
    {
      "cell_type": "markdown",
      "source": [
        "For the first hypothesis \"What is the correlation between eating vegetables and the confirmed rate of having COVID 19?\" I chose to represent my data with a scatter plot to show the correlation.\n",
        "\n",
        "I found the scatterplot that includes the hue which represents deaths to be more informative because from that scatter plot I can see that for those who eat vegetables there are less deaths when there is a lower number of confirmed COVID cases. As the number of confirmed COVID cases rises there begins to be more deaths especially in those who eat between 5 and 7.5 kgs of vegetables. However, ultimately there is not a clear correlation between the amount of vegetables one eats and the number of confirmed cases.\n"
      ],
      "metadata": {
        "id": "Xq-dlLds0LwS"
      }
    },
    {
      "cell_type": "code",
      "source": [
        "sns.scatterplot(data=diet ,x='Vegetables',y='Confirmed', hue='Deaths')"
      ],
      "metadata": {
        "id": "2Y1SVZpvMXSp",
        "colab": {
          "base_uri": "https://localhost:8080/",
          "height": 296
        },
        "outputId": "49a8f4fc-4bb8-4e49-847b-9238d82fafbb"
      },
      "execution_count": null,
      "outputs": [
        {
          "output_type": "execute_result",
          "data": {
            "text/plain": [
              "<matplotlib.axes._subplots.AxesSubplot at 0x7fc2db353650>"
            ]
          },
          "metadata": {},
          "execution_count": 45
        },
        {
          "output_type": "display_data",
          "data": {
            "text/plain": [
              "<Figure size 432x288 with 1 Axes>"
            ],
            "image/png": "[encoded data removed]"
          },
          "metadata": {
            "needs_background": "light"
          }
        }
      ]
    },
    {
      "cell_type": "markdown",
      "source": [
        "For my second hypothesis \"What is the correlation between a pescaterian diet (fish and seafood) and the confirmed rate of having COVID 19??\" I chose to represent my data with a regression plot (regplot) because I am only comparing a single relationship.\n",
        "\n",
        "From this regression plot I can see that there is no clear correlation between the amount of fish and seafood one eats and the percentage in which they have a confirmed case of  COVID 19. There does seem to be a small correlation where countries who eat between 0 and 2 kgs of fish and seafood and them having a confirmed case of COVID 19 but this correlation is not conducive.\n",
        " "
      ],
      "metadata": {
        "id": "A1DHK79a24kO"
      }
    },
    {
      "cell_type": "code",
      "source": [
        "sns.regplot(x='Fish, Seafood',y='Confirmed',data=diet)\n"
      ],
      "metadata": {
        "id": "8Gm0DKpKmm5d",
        "colab": {
          "base_uri": "https://localhost:8080/",
          "height": 296
        },
        "outputId": "f6ec63d3-2ed6-4ba6-b948-38ba700fc9d3"
      },
      "execution_count": null,
      "outputs": [
        {
          "output_type": "execute_result",
          "data": {
            "text/plain": [
              "<matplotlib.axes._subplots.AxesSubplot at 0x7fc2db262650>"
            ]
          },
          "metadata": {},
          "execution_count": 46
        },
        {
          "output_type": "display_data",
          "data": {
            "text/plain": [
              "<Figure size 432x288 with 1 Axes>"
            ],
            "image/png": "[encoded data removed]"
          },
          "metadata": {
            "needs_background": "light"
          }
        }
      ]
    },
    {
      "cell_type": "markdown",
      "source": [
        "Lastly, for my third hypothesis \"What is the correlation between amimal product intake the confirmed rate of having COVID 19?\" I chose to chose to represent my data with a lmplot.\n",
        "\n",
        "Again, there isn't a clear correlation between eating animal products and confirmed cases of COVID 19. There is a small correlation between those who eat between 0 and 15 kgs of animal products and them having a confirmed case of COVID 19 but this correlation isn't representative of the entire data.\n",
        "\n"
      ],
      "metadata": {
        "id": "OoT5Z2Ry5gjA"
      }
    },
    {
      "cell_type": "code",
      "source": [
        "sns.lmplot(x='Animal Products',y='Confirmed',data=diet)"
      ],
      "metadata": {
        "id": "eX91Qb5Bf7yp",
        "colab": {
          "base_uri": "https://localhost:8080/",
          "height": 386
        },
        "outputId": "04542eaa-b753-45a2-a4c3-5416f8cf1120"
      },
      "execution_count": null,
      "outputs": [
        {
          "output_type": "execute_result",
          "data": {
            "text/plain": [
              "<seaborn.axisgrid.FacetGrid at 0x7fc2dadb2750>"
            ]
          },
          "metadata": {},
          "execution_count": 47
        },
        {
          "output_type": "display_data",
          "data": {
            "text/plain": [
              "<Figure size 360x360 with 1 Axes>"
            ],
            "image/png": "[encoded data removed]"
          },
          "metadata": {
            "needs_background": "light"
          }
        }
      ]
    },
    {
      "cell_type": "markdown",
      "source": [
        "I will prepare my models for testing\n",
        "\n",
        "Using astype() I am able to convert my floats into integers. I will name the converted data diet_n\n"
      ],
      "metadata": {
        "id": "dEdO1uSzF0jW"
      }
    },
    {
      "cell_type": "code",
      "source": [
        "diet_n = df.astype ({'Alcoholic Beverages':'int', 'Animal fats':'int', 'Animal Products':'int',\n",
        "       'Aquatic Products, Other':'int', 'Cereals - Excluding Beer':'int', 'Eggs':'int',\n",
        "       'Fish, Seafood':'int', 'Fruits - Excluding Wine':'int', 'Meat':'int',\n",
        "       'Milk - Excluding Butter':'int', 'Miscellaneous':'int', 'Offals':'int', 'Oilcrops':'int',\n",
        "       'Pulses':'int', 'Spices':'int', 'Starchy Roots':'int', 'Stimulants':'int', 'Sugar & Sweeteners':'int',\n",
        "       'Sugar Crops':'int', 'Treenuts':'int', 'Vegetable Oils':'int', 'Vegetables':'int',\n",
        "       'Vegetal Products':'int', 'Obesity':'int', 'Undernourished':'int', 'Confirmed':'int', 'Deaths':'int', 'Recovered':'int',\t'Active':'int',\t'Population':'int'})\n",
        "diet_n"
      ],
      "metadata": {
        "colab": {
          "base_uri": "https://localhost:8080/",
          "height": 609
        },
        "id": "9RHPnSzFpyEr",
        "outputId": "d7ecbb65-2ae9-4e0c-c806-43e4a40b3ac5"
      },
      "execution_count": null,
      "outputs": [
        {
          "output_type": "execute_result",
          "data": {
            "text/plain": [
              "                                Country  Alcoholic Beverages  Animal fats  \\\n",
              "0                           Afghanistan                    0            0   \n",
              "1                               Albania                    1            0   \n",
              "2                               Algeria                    0            0   \n",
              "3                                Angola                    5            0   \n",
              "4                   Antigua and Barbuda                    3            0   \n",
              "..                                  ...                  ...          ...   \n",
              "165  Venezuela (Bolivarian Republic of)                    2            0   \n",
              "166                             Vietnam                    1            0   \n",
              "167                               Yemen                    0            0   \n",
              "168                              Zambia                    5            0   \n",
              "169                            Zimbabwe                    4            0   \n",
              "\n",
              "     Animal Products  Aquatic Products, Other  Cereals - Excluding Beer  Eggs  \\\n",
              "0                  9                        0                        24     0   \n",
              "1                 18                        0                         5     0   \n",
              "2                  9                        0                        13     0   \n",
              "3                  4                        0                         9     0   \n",
              "4                 16                        0                         5     0   \n",
              "..               ...                      ...                       ...   ...   \n",
              "165               14                        0                        12     0   \n",
              "166                8                        0                        16     0   \n",
              "167                5                        0                        27     0   \n",
              "168                6                        0                        21     0   \n",
              "169                8                        0                        22     0   \n",
              "\n",
              "     Fish, Seafood  Fruits - Excluding Wine  Meat  ...  Vegetables  \\\n",
              "0                0                        5     1  ...           6   \n",
              "1                0                        6     1  ...          11   \n",
              "2                0                        6     1  ...          11   \n",
              "3                1                        6     2  ...           2   \n",
              "4                4                       10     5  ...           5   \n",
              "..             ...                      ...   ...  ...         ...   \n",
              "165              0                        7     3  ...           4   \n",
              "166              2                        5     4  ...          11   \n",
              "167              0                        5     2  ...           3   \n",
              "168              1                        1     1  ...           3   \n",
              "169              0                        2     2  ...           2   \n",
              "\n",
              "     Vegetal Products  Obesity  Undernourished  Confirmed  Deaths  Recovered  \\\n",
              "0                  40        4              29          0       0          0   \n",
              "1                  31       22               6          2       0          1   \n",
              "2                  40       26               3          0       0          0   \n",
              "3                  45        6              25          0       0          0   \n",
              "4                  33       19              14          0       0          0   \n",
              "..                ...      ...             ...        ...     ...        ...   \n",
              "165                35       25              21          0       0          0   \n",
              "166                41        2               9          0       0          0   \n",
              "167                44       14              38          0       0          0   \n",
              "168                43        6              46          0       0          0   \n",
              "169                41       12              51          0       0          0   \n",
              "\n",
              "     Active  Population  Unit (all except Population)  \n",
              "0         0    38928000                             %  \n",
              "1         1     2838000                             %  \n",
              "2         0    44357000                             %  \n",
              "3         0    32522000                             %  \n",
              "4         0       98000                             %  \n",
              "..      ...         ...                           ...  \n",
              "165       0    28645000                             %  \n",
              "166       0    96209000                             %  \n",
              "167       0    29826000                             %  \n",
              "168       0    18384000                             %  \n",
              "169       0    14863000                             %  \n",
              "\n",
              "[170 rows x 32 columns]"
            ],
            "text/html": [
              "\n",
              "  <div id=\"df-26fe95b1-0591-4d21-abc4-0833ca8d8f92\">\n",
              "    <div class=\"colab-df-container\">\n",
              "      <div>\n",
              "<style scoped>\n",
              "    .dataframe tbody tr th:only-of-type {\n",
              "        vertical-align: middle;\n",
              "    }\n",
              "\n",
              "    .dataframe tbody tr th {\n",
              "        vertical-align: top;\n",
              "    }\n",
              "\n",
              "    .dataframe thead th {\n",
              "        text-align: right;\n",
              "    }\n",
              "</style>\n",
              "<table border=\"1\" class=\"dataframe\">\n",
              "  <thead>\n",
              "    <tr style=\"text-align: right;\">\n",
              "      <th></th>\n",
              "      <th>Country</th>\n",
              "      <th>Alcoholic Beverages</th>\n",
              "      <th>Animal fats</th>\n",
              "      <th>Animal Products</th>\n",
              "      <th>Aquatic Products, Other</th>\n",
              "      <th>Cereals - Excluding Beer</th>\n",
              "      <th>Eggs</th>\n",
              "      <th>Fish, Seafood</th>\n",
              "      <th>Fruits - Excluding Wine</th>\n",
              "      <th>Meat</th>\n",
              "      <th>...</th>\n",
              "      <th>Vegetables</th>\n",
              "      <th>Vegetal Products</th>\n",
              "      <th>Obesity</th>\n",
              "      <th>Undernourished</th>\n",
              "      <th>Confirmed</th>\n",
              "      <th>Deaths</th>\n",
              "      <th>Recovered</th>\n",
              "      <th>Active</th>\n",
              "      <th>Population</th>\n",
              "      <th>Unit (all except Population)</th>\n",
              "    </tr>\n",
              "  </thead>\n",
              "  <tbody>\n",
              "    <tr>\n",
              "      <th>0</th>\n",
              "      <td>Afghanistan</td>\n",
              "      <td>0</td>\n",
              "      <td>0</td>\n",
              "      <td>9</td>\n",
              "      <td>0</td>\n",
              "      <td>24</td>\n",
              "      <td>0</td>\n",
              "      <td>0</td>\n",
              "      <td>5</td>\n",
              "      <td>1</td>\n",
              "      <td>...</td>\n",
              "      <td>6</td>\n",
              "      <td>40</td>\n",
              "      <td>4</td>\n",
              "      <td>29</td>\n",
              "      <td>0</td>\n",
              "      <td>0</td>\n",
              "      <td>0</td>\n",
              "      <td>0</td>\n",
              "      <td>38928000</td>\n",
              "      <td>%</td>\n",
              "    </tr>\n",
              "    <tr>\n",
              "      <th>1</th>\n",
              "      <td>Albania</td>\n",
              "      <td>1</td>\n",
              "      <td>0</td>\n",
              "      <td>18</td>\n",
              "      <td>0</td>\n",
              "      <td>5</td>\n",
              "      <td>0</td>\n",
              "      <td>0</td>\n",
              "      <td>6</td>\n",
              "      <td>1</td>\n",
              "      <td>...</td>\n",
              "      <td>11</td>\n",
              "      <td>31</td>\n",
              "      <td>22</td>\n",
              "      <td>6</td>\n",
              "      <td>2</td>\n",
              "      <td>0</td>\n",
              "      <td>1</td>\n",
              "      <td>1</td>\n",
              "      <td>2838000</td>\n",
              "      <td>%</td>\n",
              "    </tr>\n",
              "    <tr>\n",
              "      <th>2</th>\n",
              "      <td>Algeria</td>\n",
              "      <td>0</td>\n",
              "      <td>0</td>\n",
              "      <td>9</td>\n",
              "      <td>0</td>\n",
              "      <td>13</td>\n",
              "      <td>0</td>\n",
              "      <td>0</td>\n",
              "      <td>6</td>\n",
              "      <td>1</td>\n",
              "      <td>...</td>\n",
              "      <td>11</td>\n",
              "      <td>40</td>\n",
              "      <td>26</td>\n",
              "      <td>3</td>\n",
              "      <td>0</td>\n",
              "      <td>0</td>\n",
              "      <td>0</td>\n",
              "      <td>0</td>\n",
              "      <td>44357000</td>\n",
              "      <td>%</td>\n",
              "    </tr>\n",
              "    <tr>\n",
              "      <th>3</th>\n",
              "      <td>Angola</td>\n",
              "      <td>5</td>\n",
              "      <td>0</td>\n",
              "      <td>4</td>\n",
              "      <td>0</td>\n",
              "      <td>9</td>\n",
              "      <td>0</td>\n",
              "      <td>1</td>\n",
              "      <td>6</td>\n",
              "      <td>2</td>\n",
              "      <td>...</td>\n",
              "      <td>2</td>\n",
              "      <td>45</td>\n",
              "      <td>6</td>\n",
              "      <td>25</td>\n",
              "      <td>0</td>\n",
              "      <td>0</td>\n",
              "      <td>0</td>\n",
              "      <td>0</td>\n",
              "      <td>32522000</td>\n",
              "      <td>%</td>\n",
              "    </tr>\n",
              "    <tr>\n",
              "      <th>4</th>\n",
              "      <td>Antigua and Barbuda</td>\n",
              "      <td>3</td>\n",
              "      <td>0</td>\n",
              "      <td>16</td>\n",
              "      <td>0</td>\n",
              "      <td>5</td>\n",
              "      <td>0</td>\n",
              "      <td>4</td>\n",
              "      <td>10</td>\n",
              "      <td>5</td>\n",
              "      <td>...</td>\n",
              "      <td>5</td>\n",
              "      <td>33</td>\n",
              "      <td>19</td>\n",
              "      <td>14</td>\n",
              "      <td>0</td>\n",
              "      <td>0</td>\n",
              "      <td>0</td>\n",
              "      <td>0</td>\n",
              "      <td>98000</td>\n",
              "      <td>%</td>\n",
              "    </tr>\n",
              "    <tr>\n",
              "      <th>...</th>\n",
              "      <td>...</td>\n",
              "      <td>...</td>\n",
              "      <td>...</td>\n",
              "      <td>...</td>\n",
              "      <td>...</td>\n",
              "      <td>...</td>\n",
              "      <td>...</td>\n",
              "      <td>...</td>\n",
              "      <td>...</td>\n",
              "      <td>...</td>\n",
              "      <td>...</td>\n",
              "      <td>...</td>\n",
              "      <td>...</td>\n",
              "      <td>...</td>\n",
              "      <td>...</td>\n",
              "      <td>...</td>\n",
              "      <td>...</td>\n",
              "      <td>...</td>\n",
              "      <td>...</td>\n",
              "      <td>...</td>\n",
              "      <td>...</td>\n",
              "    </tr>\n",
              "    <tr>\n",
              "      <th>165</th>\n",
              "      <td>Venezuela (Bolivarian Republic of)</td>\n",
              "      <td>2</td>\n",
              "      <td>0</td>\n",
              "      <td>14</td>\n",
              "      <td>0</td>\n",
              "      <td>12</td>\n",
              "      <td>0</td>\n",
              "      <td>0</td>\n",
              "      <td>7</td>\n",
              "      <td>3</td>\n",
              "      <td>...</td>\n",
              "      <td>4</td>\n",
              "      <td>35</td>\n",
              "      <td>25</td>\n",
              "      <td>21</td>\n",
              "      <td>0</td>\n",
              "      <td>0</td>\n",
              "      <td>0</td>\n",
              "      <td>0</td>\n",
              "      <td>28645000</td>\n",
              "      <td>%</td>\n",
              "    </tr>\n",
              "    <tr>\n",
              "      <th>166</th>\n",
              "      <td>Vietnam</td>\n",
              "      <td>1</td>\n",
              "      <td>0</td>\n",
              "      <td>8</td>\n",
              "      <td>0</td>\n",
              "      <td>16</td>\n",
              "      <td>0</td>\n",
              "      <td>2</td>\n",
              "      <td>5</td>\n",
              "      <td>4</td>\n",
              "      <td>...</td>\n",
              "      <td>11</td>\n",
              "      <td>41</td>\n",
              "      <td>2</td>\n",
              "      <td>9</td>\n",
              "      <td>0</td>\n",
              "      <td>0</td>\n",
              "      <td>0</td>\n",
              "      <td>0</td>\n",
              "      <td>96209000</td>\n",
              "      <td>%</td>\n",
              "    </tr>\n",
              "    <tr>\n",
              "      <th>167</th>\n",
              "      <td>Yemen</td>\n",
              "      <td>0</td>\n",
              "      <td>0</td>\n",
              "      <td>5</td>\n",
              "      <td>0</td>\n",
              "      <td>27</td>\n",
              "      <td>0</td>\n",
              "      <td>0</td>\n",
              "      <td>5</td>\n",
              "      <td>2</td>\n",
              "      <td>...</td>\n",
              "      <td>3</td>\n",
              "      <td>44</td>\n",
              "      <td>14</td>\n",
              "      <td>38</td>\n",
              "      <td>0</td>\n",
              "      <td>0</td>\n",
              "      <td>0</td>\n",
              "      <td>0</td>\n",
              "      <td>29826000</td>\n",
              "      <td>%</td>\n",
              "    </tr>\n",
              "    <tr>\n",
              "      <th>168</th>\n",
              "      <td>Zambia</td>\n",
              "      <td>5</td>\n",
              "      <td>0</td>\n",
              "      <td>6</td>\n",
              "      <td>0</td>\n",
              "      <td>21</td>\n",
              "      <td>0</td>\n",
              "      <td>1</td>\n",
              "      <td>1</td>\n",
              "      <td>1</td>\n",
              "      <td>...</td>\n",
              "      <td>3</td>\n",
              "      <td>43</td>\n",
              "      <td>6</td>\n",
              "      <td>46</td>\n",
              "      <td>0</td>\n",
              "      <td>0</td>\n",
              "      <td>0</td>\n",
              "      <td>0</td>\n",
              "      <td>18384000</td>\n",
              "      <td>%</td>\n",
              "    </tr>\n",
              "    <tr>\n",
              "      <th>169</th>\n",
              "      <td>Zimbabwe</td>\n",
              "      <td>4</td>\n",
              "      <td>0</td>\n",
              "      <td>8</td>\n",
              "      <td>0</td>\n",
              "      <td>22</td>\n",
              "      <td>0</td>\n",
              "      <td>0</td>\n",
              "      <td>2</td>\n",
              "      <td>2</td>\n",
              "      <td>...</td>\n",
              "      <td>2</td>\n",
              "      <td>41</td>\n",
              "      <td>12</td>\n",
              "      <td>51</td>\n",
              "      <td>0</td>\n",
              "      <td>0</td>\n",
              "      <td>0</td>\n",
              "      <td>0</td>\n",
              "      <td>14863000</td>\n",
              "      <td>%</td>\n",
              "    </tr>\n",
              "  </tbody>\n",
              "</table>\n",
              "<p>170 rows × 32 columns</p>\n",
              "</div>\n",
              "      <button class=\"colab-df-convert\" onclick=\"convertToInteractive('df-26fe95b1-0591-4d21-abc4-0833ca8d8f92')\"\n",
              "              title=\"Convert this dataframe to an interactive table.\"\n",
              "              style=\"display:none;\">\n",
              "        \n",
              "  <svg xmlns=\"http://www.w3.org/2000/svg\" height=\"24px\"viewBox=\"0 0 24 24\"\n",
              "       width=\"24px\">\n",
              "    <path d=\"M0 0h24v24H0V0z\" fill=\"none\"/>\n",
              "    <path d=\"M18.56 5.44l.94 2.06.94-2.06 2.06-.94-2.06-.94-.94-2.06-.94 2.06-2.06.94zm-11 1L8.5 8.5l.94-2.06 2.06-.94-2.06-.94L8.5 2.5l-.94 2.06-2.06.94zm10 10l.94 2.06.94-2.06 2.06-.94-2.06-.94-.94-2.06-.94 2.06-2.06.94z\"/><path d=\"M17.41 7.96l-1.37-1.37c-.4-.4-.92-.59-1.43-.59-.52 0-1.04.2-1.43.59L10.3 9.45l-7.72 7.72c-.78.78-.78 2.05 0 2.83L4 21.41c.39.39.9.59 1.41.59.51 0 1.02-.2 1.41-.59l7.78-7.78 2.81-2.81c.8-.78.8-2.07 0-2.86zM5.41 20L4 18.59l7.72-7.72 1.47 1.35L5.41 20z\"/>\n",
              "  </svg>\n",
              "      </button>\n",
              "      \n",
              "  <style>\n",
              "    .colab-df-container {\n",
              "      display:flex;\n",
              "      flex-wrap:wrap;\n",
              "      gap: 12px;\n",
              "    }\n",
              "\n",
              "    .colab-df-convert {\n",
              "      background-color: #E8F0FE;\n",
              "      border: none;\n",
              "      border-radius: 50%;\n",
              "      cursor: pointer;\n",
              "      display: none;\n",
              "      fill: #1967D2;\n",
              "      height: 32px;\n",
              "      padding: 0 0 0 0;\n",
              "      width: 32px;\n",
              "    }\n",
              "\n",
              "    .colab-df-convert:hover {\n",
              "      background-color: #E2EBFA;\n",
              "      box-shadow: 0px 1px 2px rgba(60, 64, 67, 0.3), 0px 1px 3px 1px rgba(60, 64, 67, 0.15);\n",
              "      fill: #174EA6;\n",
              "    }\n",
              "\n",
              "    [theme=dark] .colab-df-convert {\n",
              "      background-color: #3B4455;\n",
              "      fill: #D2E3FC;\n",
              "    }\n",
              "\n",
              "    [theme=dark] .colab-df-convert:hover {\n",
              "      background-color: #434B5C;\n",
              "      box-shadow: 0px 1px 3px 1px rgba(0, 0, 0, 0.15);\n",
              "      filter: drop-shadow(0px 1px 2px rgba(0, 0, 0, 0.3));\n",
              "      fill: #FFFFFF;\n",
              "    }\n",
              "  </style>\n",
              "\n",
              "      <script>\n",
              "        const buttonEl =\n",
              "          document.querySelector('#df-26fe95b1-0591-4d21-abc4-0833ca8d8f92 button.colab-df-convert');\n",
              "        buttonEl.style.display =\n",
              "          google.colab.kernel.accessAllowed ? 'block' : 'none';\n",
              "\n",
              "        async function convertToInteractive(key) {\n",
              "          const element = document.querySelector('#df-26fe95b1-0591-4d21-abc4-0833ca8d8f92');\n",
              "          const dataTable =\n",
              "            await google.colab.kernel.invokeFunction('convertToInteractive',\n",
              "                                                     [key], {});\n",
              "          if (!dataTable) return;\n",
              "\n",
              "          const docLinkHtml = 'Like what you see? Visit the ' +\n",
              "            '<a target=\"_blank\" href=https://colab.research.google.com/notebooks/data_table.ipynb>data table notebook</a>'\n",
              "            + ' to learn more about interactive tables.';\n",
              "          element.innerHTML = '';\n",
              "          dataTable['output_type'] = 'display_data';\n",
              "          await google.colab.output.renderOutput(dataTable, element);\n",
              "          const docLink = document.createElement('div');\n",
              "          docLink.innerHTML = docLinkHtml;\n",
              "          element.appendChild(docLink);\n",
              "        }\n",
              "      </script>\n",
              "    </div>\n",
              "  </div>\n",
              "  "
            ]
          },
          "metadata": {},
          "execution_count": 48
        }
      ]
    },
    {
      "cell_type": "code",
      "source": [
        "diet_n.Confirmed.unique()"
      ],
      "metadata": {
        "colab": {
          "base_uri": "https://localhost:8080/"
        },
        "id": "sRPCRJlTijn7",
        "outputId": "6ff9a98c-c9a7-4743-bfff-defc5a943be6"
      },
      "execution_count": null,
      "outputs": [
        {
          "output_type": "execute_result",
          "data": {
            "text/plain": [
              "array([ 0,  2,  4,  5,  6,  1,  3,  9,  7,  8, 10])"
            ]
          },
          "metadata": {},
          "execution_count": 49
        }
      ]
    },
    {
      "cell_type": "markdown",
      "source": [
        "Identify our independent or target variable (y) and our dependent variable(s) X.\n",
        "\n",
        "To identify our X we must create a table that includes only the dependent variables that we want to test against our independent variable. I used the Drop() Method to drop all of the unnessesary columns and to drop the 'Confirmed' column because that will serve as my y variable. "
      ],
      "metadata": {
        "id": "Rf8LhS_sGdlz"
      }
    },
    {
      "cell_type": "code",
      "source": [
        "X = diet_n.drop (['Country','Animal fats','Aquatic Products, Other', 'Cereals - Excluding Beer', 'Eggs', 'Miscellaneous', 'Offals', 'Oilcrops', 'Pulses', 'Spices', 'Starchy Roots', 'Stimulants','Sugar Crops', 'Treenuts', 'Vegetable Oils','Vegetal Products', 'Unit (all except Population)', 'Active', 'Population','Obesity',\t'Undernourished',\t'Recovered',\t'Deaths',\t'Confirmed'] , axis='columns')\n",
        "X"
      ],
      "metadata": {
        "colab": {
          "base_uri": "https://localhost:8080/",
          "height": 424
        },
        "id": "3N04bSyzGgyi",
        "outputId": "66c3edad-bda8-45f2-eb34-646e34f9c7af"
      },
      "execution_count": null,
      "outputs": [
        {
          "output_type": "execute_result",
          "data": {
            "text/plain": [
              "     Alcoholic Beverages  Animal Products  Fish, Seafood  \\\n",
              "0                      0                9              0   \n",
              "1                      1               18              0   \n",
              "2                      0                9              0   \n",
              "3                      5                4              1   \n",
              "4                      3               16              4   \n",
              "..                   ...              ...            ...   \n",
              "165                    2               14              0   \n",
              "166                    1                8              2   \n",
              "167                    0                5              0   \n",
              "168                    5                6              1   \n",
              "169                    4                8              0   \n",
              "\n",
              "     Fruits - Excluding Wine  Meat  Milk - Excluding Butter  \\\n",
              "0                          5     1                        7   \n",
              "1                          6     1                       15   \n",
              "2                          6     1                        7   \n",
              "3                          6     2                        0   \n",
              "4                         10     5                        6   \n",
              "..                       ...   ...                      ...   \n",
              "165                        7     3                        9   \n",
              "166                        5     4                        0   \n",
              "167                        5     2                        1   \n",
              "168                        1     1                        1   \n",
              "169                        2     2                        4   \n",
              "\n",
              "     Sugar & Sweeteners  Vegetables  \n",
              "0                     1           6  \n",
              "1                     1          11  \n",
              "2                     1          11  \n",
              "3                     1           2  \n",
              "4                     3           5  \n",
              "..                  ...         ...  \n",
              "165                   3           4  \n",
              "166                   1          11  \n",
              "167                   5           3  \n",
              "168                   1           3  \n",
              "169                   4           2  \n",
              "\n",
              "[170 rows x 8 columns]"
            ],
            "text/html": [
              "\n",
              "  <div id=\"df-0cd8ff2b-2178-4f46-84aa-0a66da64ccec\">\n",
              "    <div class=\"colab-df-container\">\n",
              "      <div>\n",
              "<style scoped>\n",
              "    .dataframe tbody tr th:only-of-type {\n",
              "        vertical-align: middle;\n",
              "    }\n",
              "\n",
              "    .dataframe tbody tr th {\n",
              "        vertical-align: top;\n",
              "    }\n",
              "\n",
              "    .dataframe thead th {\n",
              "        text-align: right;\n",
              "    }\n",
              "</style>\n",
              "<table border=\"1\" class=\"dataframe\">\n",
              "  <thead>\n",
              "    <tr style=\"text-align: right;\">\n",
              "      <th></th>\n",
              "      <th>Alcoholic Beverages</th>\n",
              "      <th>Animal Products</th>\n",
              "      <th>Fish, Seafood</th>\n",
              "      <th>Fruits - Excluding Wine</th>\n",
              "      <th>Meat</th>\n",
              "      <th>Milk - Excluding Butter</th>\n",
              "      <th>Sugar &amp; Sweeteners</th>\n",
              "      <th>Vegetables</th>\n",
              "    </tr>\n",
              "  </thead>\n",
              "  <tbody>\n",
              "    <tr>\n",
              "      <th>0</th>\n",
              "      <td>0</td>\n",
              "      <td>9</td>\n",
              "      <td>0</td>\n",
              "      <td>5</td>\n",
              "      <td>1</td>\n",
              "      <td>7</td>\n",
              "      <td>1</td>\n",
              "      <td>6</td>\n",
              "    </tr>\n",
              "    <tr>\n",
              "      <th>1</th>\n",
              "      <td>1</td>\n",
              "      <td>18</td>\n",
              "      <td>0</td>\n",
              "      <td>6</td>\n",
              "      <td>1</td>\n",
              "      <td>15</td>\n",
              "      <td>1</td>\n",
              "      <td>11</td>\n",
              "    </tr>\n",
              "    <tr>\n",
              "      <th>2</th>\n",
              "      <td>0</td>\n",
              "      <td>9</td>\n",
              "      <td>0</td>\n",
              "      <td>6</td>\n",
              "      <td>1</td>\n",
              "      <td>7</td>\n",
              "      <td>1</td>\n",
              "      <td>11</td>\n",
              "    </tr>\n",
              "    <tr>\n",
              "      <th>3</th>\n",
              "      <td>5</td>\n",
              "      <td>4</td>\n",
              "      <td>1</td>\n",
              "      <td>6</td>\n",
              "      <td>2</td>\n",
              "      <td>0</td>\n",
              "      <td>1</td>\n",
              "      <td>2</td>\n",
              "    </tr>\n",
              "    <tr>\n",
              "      <th>4</th>\n",
              "      <td>3</td>\n",
              "      <td>16</td>\n",
              "      <td>4</td>\n",
              "      <td>10</td>\n",
              "      <td>5</td>\n",
              "      <td>6</td>\n",
              "      <td>3</td>\n",
              "      <td>5</td>\n",
              "    </tr>\n",
              "    <tr>\n",
              "      <th>...</th>\n",
              "      <td>...</td>\n",
              "      <td>...</td>\n",
              "      <td>...</td>\n",
              "      <td>...</td>\n",
              "      <td>...</td>\n",
              "      <td>...</td>\n",
              "      <td>...</td>\n",
              "      <td>...</td>\n",
              "    </tr>\n",
              "    <tr>\n",
              "      <th>165</th>\n",
              "      <td>2</td>\n",
              "      <td>14</td>\n",
              "      <td>0</td>\n",
              "      <td>7</td>\n",
              "      <td>3</td>\n",
              "      <td>9</td>\n",
              "      <td>3</td>\n",
              "      <td>4</td>\n",
              "    </tr>\n",
              "    <tr>\n",
              "      <th>166</th>\n",
              "      <td>1</td>\n",
              "      <td>8</td>\n",
              "      <td>2</td>\n",
              "      <td>5</td>\n",
              "      <td>4</td>\n",
              "      <td>0</td>\n",
              "      <td>1</td>\n",
              "      <td>11</td>\n",
              "    </tr>\n",
              "    <tr>\n",
              "      <th>167</th>\n",
              "      <td>0</td>\n",
              "      <td>5</td>\n",
              "      <td>0</td>\n",
              "      <td>5</td>\n",
              "      <td>2</td>\n",
              "      <td>1</td>\n",
              "      <td>5</td>\n",
              "      <td>3</td>\n",
              "    </tr>\n",
              "    <tr>\n",
              "      <th>168</th>\n",
              "      <td>5</td>\n",
              "      <td>6</td>\n",
              "      <td>1</td>\n",
              "      <td>1</td>\n",
              "      <td>1</td>\n",
              "      <td>1</td>\n",
              "      <td>1</td>\n",
              "      <td>3</td>\n",
              "    </tr>\n",
              "    <tr>\n",
              "      <th>169</th>\n",
              "      <td>4</td>\n",
              "      <td>8</td>\n",
              "      <td>0</td>\n",
              "      <td>2</td>\n",
              "      <td>2</td>\n",
              "      <td>4</td>\n",
              "      <td>4</td>\n",
              "      <td>2</td>\n",
              "    </tr>\n",
              "  </tbody>\n",
              "</table>\n",
              "<p>170 rows × 8 columns</p>\n",
              "</div>\n",
              "      <button class=\"colab-df-convert\" onclick=\"convertToInteractive('df-0cd8ff2b-2178-4f46-84aa-0a66da64ccec')\"\n",
              "              title=\"Convert this dataframe to an interactive table.\"\n",
              "              style=\"display:none;\">\n",
              "        \n",
              "  <svg xmlns=\"http://www.w3.org/2000/svg\" height=\"24px\"viewBox=\"0 0 24 24\"\n",
              "       width=\"24px\">\n",
              "    <path d=\"M0 0h24v24H0V0z\" fill=\"none\"/>\n",
              "    <path d=\"M18.56 5.44l.94 2.06.94-2.06 2.06-.94-2.06-.94-.94-2.06-.94 2.06-2.06.94zm-11 1L8.5 8.5l.94-2.06 2.06-.94-2.06-.94L8.5 2.5l-.94 2.06-2.06.94zm10 10l.94 2.06.94-2.06 2.06-.94-2.06-.94-.94-2.06-.94 2.06-2.06.94z\"/><path d=\"M17.41 7.96l-1.37-1.37c-.4-.4-.92-.59-1.43-.59-.52 0-1.04.2-1.43.59L10.3 9.45l-7.72 7.72c-.78.78-.78 2.05 0 2.83L4 21.41c.39.39.9.59 1.41.59.51 0 1.02-.2 1.41-.59l7.78-7.78 2.81-2.81c.8-.78.8-2.07 0-2.86zM5.41 20L4 18.59l7.72-7.72 1.47 1.35L5.41 20z\"/>\n",
              "  </svg>\n",
              "      </button>\n",
              "      \n",
              "  <style>\n",
              "    .colab-df-container {\n",
              "      display:flex;\n",
              "      flex-wrap:wrap;\n",
              "      gap: 12px;\n",
              "    }\n",
              "\n",
              "    .colab-df-convert {\n",
              "      background-color: #E8F0FE;\n",
              "      border: none;\n",
              "      border-radius: 50%;\n",
              "      cursor: pointer;\n",
              "      display: none;\n",
              "      fill: #1967D2;\n",
              "      height: 32px;\n",
              "      padding: 0 0 0 0;\n",
              "      width: 32px;\n",
              "    }\n",
              "\n",
              "    .colab-df-convert:hover {\n",
              "      background-color: #E2EBFA;\n",
              "      box-shadow: 0px 1px 2px rgba(60, 64, 67, 0.3), 0px 1px 3px 1px rgba(60, 64, 67, 0.15);\n",
              "      fill: #174EA6;\n",
              "    }\n",
              "\n",
              "    [theme=dark] .colab-df-convert {\n",
              "      background-color: #3B4455;\n",
              "      fill: #D2E3FC;\n",
              "    }\n",
              "\n",
              "    [theme=dark] .colab-df-convert:hover {\n",
              "      background-color: #434B5C;\n",
              "      box-shadow: 0px 1px 3px 1px rgba(0, 0, 0, 0.15);\n",
              "      filter: drop-shadow(0px 1px 2px rgba(0, 0, 0, 0.3));\n",
              "      fill: #FFFFFF;\n",
              "    }\n",
              "  </style>\n",
              "\n",
              "      <script>\n",
              "        const buttonEl =\n",
              "          document.querySelector('#df-0cd8ff2b-2178-4f46-84aa-0a66da64ccec button.colab-df-convert');\n",
              "        buttonEl.style.display =\n",
              "          google.colab.kernel.accessAllowed ? 'block' : 'none';\n",
              "\n",
              "        async function convertToInteractive(key) {\n",
              "          const element = document.querySelector('#df-0cd8ff2b-2178-4f46-84aa-0a66da64ccec');\n",
              "          const dataTable =\n",
              "            await google.colab.kernel.invokeFunction('convertToInteractive',\n",
              "                                                     [key], {});\n",
              "          if (!dataTable) return;\n",
              "\n",
              "          const docLinkHtml = 'Like what you see? Visit the ' +\n",
              "            '<a target=\"_blank\" href=https://colab.research.google.com/notebooks/data_table.ipynb>data table notebook</a>'\n",
              "            + ' to learn more about interactive tables.';\n",
              "          element.innerHTML = '';\n",
              "          dataTable['output_type'] = 'display_data';\n",
              "          await google.colab.output.renderOutput(dataTable, element);\n",
              "          const docLink = document.createElement('div');\n",
              "          docLink.innerHTML = docLinkHtml;\n",
              "          element.appendChild(docLink);\n",
              "        }\n",
              "      </script>\n",
              "    </div>\n",
              "  </div>\n",
              "  "
            ]
          },
          "metadata": {},
          "execution_count": 50
        }
      ]
    },
    {
      "cell_type": "markdown",
      "source": [
        "I created a variable and named it 'y' and it includes the 'Confirmed' column which is my independent variable."
      ],
      "metadata": {
        "id": "_tyiM3aT9OMg"
      }
    },
    {
      "cell_type": "code",
      "source": [
        "y = diet_n['Confirmed']\n",
        "y"
      ],
      "metadata": {
        "colab": {
          "base_uri": "https://localhost:8080/"
        },
        "id": "R3Le2vRdRaSh",
        "outputId": "be83bc91-742a-473f-d698-130c4b45390f"
      },
      "execution_count": null,
      "outputs": [
        {
          "output_type": "execute_result",
          "data": {
            "text/plain": [
              "0      0\n",
              "1      2\n",
              "2      0\n",
              "3      0\n",
              "4      0\n",
              "      ..\n",
              "165    0\n",
              "166    0\n",
              "167    0\n",
              "168    0\n",
              "169    0\n",
              "Name: Confirmed, Length: 170, dtype: int64"
            ]
          },
          "metadata": {},
          "execution_count": 51
        }
      ]
    },
    {
      "cell_type": "markdown",
      "source": [
        "Now we will use train test split to evaluate the performance of each model\n",
        "\n",
        "\n",
        "\n"
      ],
      "metadata": {
        "id": "iEg3bNXxU_ej"
      }
    },
    {
      "cell_type": "code",
      "source": [
        "from sklearn.model_selection import train_test_split\n",
        "X_train, X_test, y_train, y_test = train_test_split(X,y,test_size=0.3)"
      ],
      "metadata": {
        "id": "yfumgPKKVs70"
      },
      "execution_count": null,
      "outputs": []
    },
    {
      "cell_type": "markdown",
      "source": [
        "Although I can see in the graphs above that there isn't a clear linear relationship between the independent and dependent variables I will still test the data using the Linear Regression Classifier\n",
        "\n",
        "First, I import LinearRegression from sklearn"
      ],
      "metadata": {
        "id": "00Nhmy72Gh1G"
      }
    },
    {
      "cell_type": "code",
      "source": [
        "from sklearn.linear_model import LinearRegression\n",
        "model = LinearRegression()"
      ],
      "metadata": {
        "id": "0RMfCr8UGIdo"
      },
      "execution_count": null,
      "outputs": []
    },
    {
      "cell_type": "markdown",
      "source": [
        "Then I fit the training data with model.fit\n"
      ],
      "metadata": {
        "id": "ZPTK8WCvHbXU"
      }
    },
    {
      "cell_type": "code",
      "source": [
        "model.fit(X_train, y_train)"
      ],
      "metadata": {
        "colab": {
          "base_uri": "https://localhost:8080/"
        },
        "id": "knya7qWIuIUY",
        "outputId": "68b50110-a51e-42a2-9717-d0dbad93be8d"
      },
      "execution_count": null,
      "outputs": [
        {
          "output_type": "execute_result",
          "data": {
            "text/plain": [
              "LinearRegression()"
            ]
          },
          "metadata": {},
          "execution_count": 54
        }
      ]
    },
    {
      "cell_type": "markdown",
      "source": [
        "Now I will score my data or test it for accuracy. My Linear Regression model is only 32% accurate which is very low. So I will repeat the same process for Logistic Regression"
      ],
      "metadata": {
        "id": "t96ijHnpHAdp"
      }
    },
    {
      "cell_type": "code",
      "source": [
        "model.score(X_test, y_test)"
      ],
      "metadata": {
        "colab": {
          "base_uri": "https://localhost:8080/"
        },
        "id": "-H8jeDkRuLmV",
        "outputId": "1ecd59f3-1bc6-4428-ed89-25ad3b2a79c7"
      },
      "execution_count": null,
      "outputs": [
        {
          "output_type": "execute_result",
          "data": {
            "text/plain": [
              "0.29059984631407365"
            ]
          },
          "metadata": {},
          "execution_count": 55
        }
      ]
    },
    {
      "cell_type": "markdown",
      "source": [
        "**Logistic Regression**"
      ],
      "metadata": {
        "id": "mvXGRQl2HUKB"
      }
    },
    {
      "cell_type": "code",
      "source": [
        "from sklearn.linear_model import LogisticRegression\n",
        "model = LogisticRegression()"
      ],
      "metadata": {
        "id": "EdDMmvhRcsIq"
      },
      "execution_count": null,
      "outputs": []
    },
    {
      "cell_type": "code",
      "source": [
        "model.fit(X_train, y_train)"
      ],
      "metadata": {
        "colab": {
          "base_uri": "https://localhost:8080/"
        },
        "id": "vI4GHHhijJ_n",
        "outputId": "2d6bbb8f-502d-417a-e2a9-57fb3397abf7"
      },
      "execution_count": null,
      "outputs": [
        {
          "output_type": "stream",
          "name": "stderr",
          "text": [
            "/usr/local/lib/python3.7/dist-packages/sklearn/linear_model/_logistic.py:818: ConvergenceWarning: lbfgs failed to converge (status=1):\n",
            "STOP: TOTAL NO. of ITERATIONS REACHED LIMIT.\n",
            "\n",
            "Increase the number of iterations (max_iter) or scale the data as shown in:\n",
            "    https://scikit-learn.org/stable/modules/preprocessing.html\n",
            "Please also refer to the documentation for alternative solver options:\n",
            "    https://scikit-learn.org/stable/modules/linear_model.html#logistic-regression\n",
            "  extra_warning_msg=_LOGISTIC_SOLVER_CONVERGENCE_MSG,\n"
          ]
        },
        {
          "output_type": "execute_result",
          "data": {
            "text/plain": [
              "LogisticRegression()"
            ]
          },
          "metadata": {},
          "execution_count": 57
        }
      ]
    },
    {
      "cell_type": "code",
      "source": [
        "model.score(X_test, y_test)"
      ],
      "metadata": {
        "colab": {
          "base_uri": "https://localhost:8080/"
        },
        "id": "st_OZNjUt45x",
        "outputId": "4633bd49-da85-4c23-9da0-915ec9ae2709"
      },
      "execution_count": null,
      "outputs": [
        {
          "output_type": "execute_result",
          "data": {
            "text/plain": [
              "0.37254901960784315"
            ]
          },
          "metadata": {},
          "execution_count": 58
        }
      ]
    },
    {
      "cell_type": "markdown",
      "source": [
        "Of the two Logistic Regression scored higher but the accuracy score is still very low at 33%\n",
        "\n",
        "Now I will try cross validation. Cross validation uses training data to get estimates on how well our model will perform on data we haven't seen before.\n",
        "\n",
        "I will begin by importing cross_val_score from sklearn and use the Logistic Regression Classifier and the Average() Method to find the average of the scores. I will repeat this process with Decision Tree, SVC and Random Forest Classifier"
      ],
      "metadata": {
        "id": "j4YqmNWQCClN"
      }
    },
    {
      "cell_type": "code",
      "source": [
        "from sklearn.model_selection import cross_val_score\n",
        "l_scores = cross_val_score(LogisticRegression(), X, y,cv=3)\n",
        "l_scores"
      ],
      "metadata": {
        "colab": {
          "base_uri": "https://localhost:8080/"
        },
        "id": "Lqjt6546uabw",
        "outputId": "077f68de-3e51-41ef-bef0-be1ea2658e8e"
      },
      "execution_count": null,
      "outputs": [
        {
          "output_type": "stream",
          "name": "stderr",
          "text": [
            "/usr/local/lib/python3.7/dist-packages/sklearn/model_selection/_split.py:680: UserWarning: The least populated class in y has only 1 members, which is less than n_splits=3.\n",
            "  UserWarning,\n",
            "/usr/local/lib/python3.7/dist-packages/sklearn/linear_model/_logistic.py:818: ConvergenceWarning: lbfgs failed to converge (status=1):\n",
            "STOP: TOTAL NO. of ITERATIONS REACHED LIMIT.\n",
            "\n",
            "Increase the number of iterations (max_iter) or scale the data as shown in:\n",
            "    https://scikit-learn.org/stable/modules/preprocessing.html\n",
            "Please also refer to the documentation for alternative solver options:\n",
            "    https://scikit-learn.org/stable/modules/linear_model.html#logistic-regression\n",
            "  extra_warning_msg=_LOGISTIC_SOLVER_CONVERGENCE_MSG,\n",
            "/usr/local/lib/python3.7/dist-packages/sklearn/linear_model/_logistic.py:818: ConvergenceWarning: lbfgs failed to converge (status=1):\n",
            "STOP: TOTAL NO. of ITERATIONS REACHED LIMIT.\n",
            "\n",
            "Increase the number of iterations (max_iter) or scale the data as shown in:\n",
            "    https://scikit-learn.org/stable/modules/preprocessing.html\n",
            "Please also refer to the documentation for alternative solver options:\n",
            "    https://scikit-learn.org/stable/modules/linear_model.html#logistic-regression\n",
            "  extra_warning_msg=_LOGISTIC_SOLVER_CONVERGENCE_MSG,\n",
            "/usr/local/lib/python3.7/dist-packages/sklearn/linear_model/_logistic.py:818: ConvergenceWarning: lbfgs failed to converge (status=1):\n",
            "STOP: TOTAL NO. of ITERATIONS REACHED LIMIT.\n",
            "\n",
            "Increase the number of iterations (max_iter) or scale the data as shown in:\n",
            "    https://scikit-learn.org/stable/modules/preprocessing.html\n",
            "Please also refer to the documentation for alternative solver options:\n",
            "    https://scikit-learn.org/stable/modules/linear_model.html#logistic-regression\n",
            "  extra_warning_msg=_LOGISTIC_SOLVER_CONVERGENCE_MSG,\n"
          ]
        },
        {
          "output_type": "execute_result",
          "data": {
            "text/plain": [
              "array([0.40350877, 0.47368421, 0.42857143])"
            ]
          },
          "metadata": {},
          "execution_count": 59
        }
      ]
    },
    {
      "cell_type": "code",
      "source": [
        "np.average(l_scores)"
      ],
      "metadata": {
        "colab": {
          "base_uri": "https://localhost:8080/"
        },
        "id": "ypxsQnA9um6c",
        "outputId": "6c157908-6ce4-493b-913b-d462fe6cf338"
      },
      "execution_count": null,
      "outputs": [
        {
          "output_type": "execute_result",
          "data": {
            "text/plain": [
              "0.4352548036758563"
            ]
          },
          "metadata": {},
          "execution_count": 60
        }
      ]
    },
    {
      "cell_type": "markdown",
      "source": [
        "**Decision Tree**"
      ],
      "metadata": {
        "id": "HdB_llpAEH2f"
      }
    },
    {
      "cell_type": "code",
      "source": [
        "from sklearn.tree import DecisionTreeClassifier\n",
        "clf = DecisionTreeClassifier(random_state=0)\n",
        "d_scores = cross_val_score(clf, X, y, cv=3)\n",
        "d_scores"
      ],
      "metadata": {
        "colab": {
          "base_uri": "https://localhost:8080/"
        },
        "id": "hy-LlDkcurOk",
        "outputId": "e076f315-28e7-42f5-a7e1-b166758ec3d1"
      },
      "execution_count": null,
      "outputs": [
        {
          "output_type": "stream",
          "name": "stderr",
          "text": [
            "/usr/local/lib/python3.7/dist-packages/sklearn/model_selection/_split.py:680: UserWarning: The least populated class in y has only 1 members, which is less than n_splits=3.\n",
            "  UserWarning,\n"
          ]
        },
        {
          "output_type": "execute_result",
          "data": {
            "text/plain": [
              "array([0.40350877, 0.36842105, 0.39285714])"
            ]
          },
          "metadata": {},
          "execution_count": 61
        }
      ]
    },
    {
      "cell_type": "code",
      "source": [
        "np.average(d_scores)"
      ],
      "metadata": {
        "colab": {
          "base_uri": "https://localhost:8080/"
        },
        "id": "G9EMJO71u7Sb",
        "outputId": "9ad803f4-d72d-460a-e0f1-44f93c128684"
      },
      "execution_count": null,
      "outputs": [
        {
          "output_type": "execute_result",
          "data": {
            "text/plain": [
              "0.38826232247284875"
            ]
          },
          "metadata": {},
          "execution_count": 62
        }
      ]
    },
    {
      "cell_type": "markdown",
      "source": [
        "**SVC**"
      ],
      "metadata": {
        "id": "MeS2IPHRElIU"
      }
    },
    {
      "cell_type": "code",
      "source": [
        "from sklearn.svm import SVC\n",
        "s_scores = cross_val_score(SVC(gamma='auto'), X, y,cv=3)\n",
        "s_scores"
      ],
      "metadata": {
        "colab": {
          "base_uri": "https://localhost:8080/"
        },
        "id": "kgsIh2Rpu8_B",
        "outputId": "cce3ae3d-8285-4663-8434-a42a918aa9d4"
      },
      "execution_count": null,
      "outputs": [
        {
          "output_type": "stream",
          "name": "stderr",
          "text": [
            "/usr/local/lib/python3.7/dist-packages/sklearn/model_selection/_split.py:680: UserWarning: The least populated class in y has only 1 members, which is less than n_splits=3.\n",
            "  UserWarning,\n"
          ]
        },
        {
          "output_type": "execute_result",
          "data": {
            "text/plain": [
              "array([0.47368421, 0.49122807, 0.48214286])"
            ]
          },
          "metadata": {},
          "execution_count": 63
        }
      ]
    },
    {
      "cell_type": "code",
      "source": [
        "np.average(s_scores)"
      ],
      "metadata": {
        "colab": {
          "base_uri": "https://localhost:8080/"
        },
        "id": "69afsoVVvDq2",
        "outputId": "f8651145-6056-461e-8c5a-d265211be673"
      },
      "execution_count": null,
      "outputs": [
        {
          "output_type": "execute_result",
          "data": {
            "text/plain": [
              "0.4823517126148705"
            ]
          },
          "metadata": {},
          "execution_count": 64
        }
      ]
    },
    {
      "cell_type": "markdown",
      "source": [
        "**Random Forest** "
      ],
      "metadata": {
        "id": "7AR12B9aEvTV"
      }
    },
    {
      "cell_type": "code",
      "source": [
        "from sklearn.ensemble import RandomForestClassifier\n",
        "r_scores = cross_val_score(RandomForestClassifier(n_estimators=150),X, y,cv=3)\n",
        "r_scores"
      ],
      "metadata": {
        "colab": {
          "base_uri": "https://localhost:8080/"
        },
        "id": "TsBdNmOavGmV",
        "outputId": "a956d711-f612-48c0-8081-7019b82007c4"
      },
      "execution_count": null,
      "outputs": [
        {
          "output_type": "stream",
          "name": "stderr",
          "text": [
            "/usr/local/lib/python3.7/dist-packages/sklearn/model_selection/_split.py:680: UserWarning: The least populated class in y has only 1 members, which is less than n_splits=3.\n",
            "  UserWarning,\n"
          ]
        },
        {
          "output_type": "execute_result",
          "data": {
            "text/plain": [
              "array([0.45614035, 0.50877193, 0.46428571])"
            ]
          },
          "metadata": {},
          "execution_count": 65
        }
      ]
    },
    {
      "cell_type": "code",
      "source": [
        "np.average(r_scores)"
      ],
      "metadata": {
        "colab": {
          "base_uri": "https://localhost:8080/"
        },
        "id": "K4-10pTXvK5r",
        "outputId": "91b3ef81-af82-4a04-f814-8c3e8fda6c0e"
      },
      "execution_count": null,
      "outputs": [
        {
          "output_type": "execute_result",
          "data": {
            "text/plain": [
              "0.47639933166248954"
            ]
          },
          "metadata": {},
          "execution_count": 66
        }
      ]
    },
    {
      "cell_type": "markdown",
      "source": [
        "Our accuracy score is increasing and Random Forest has scored the best but still isn't high enough at 48% accuracy.\n",
        "\n",
        "I'll tune my parameters with GridSearch"
      ],
      "metadata": {
        "id": "L2P5ucl-Ij-P"
      }
    },
    {
      "cell_type": "code",
      "source": [
        "from sklearn import svm\n",
        "\n",
        "model_params = {\n",
        "    'svm': {\n",
        "        'model': svm.SVC(gamma='auto'),\n",
        "        'params' : {\n",
        "            'C': [1,10,20],\n",
        "            'kernel': ['rbf','linear']\n",
        "        }  \n",
        "    },\n",
        "    'random_forest': {\n",
        "        'model': RandomForestClassifier(),\n",
        "        'params' : {\n",
        "            'n_estimators': [1,5,10]\n",
        "        }\n",
        "    },\n",
        "    'logistic_regression' : {\n",
        "        'model': LogisticRegression(solver='liblinear',multi_class='auto'),\n",
        "        'params': {\n",
        "            'C': [1,5,10]\n",
        "        }\n",
        "    },\n",
        "    'decision_tree': {\n",
        "        'model': DecisionTreeClassifier(),\n",
        "        'params': {\n",
        "            'criterion': ['gini','entropy'],\n",
        "            \n",
        "        }\n",
        "    }     \n",
        "}"
      ],
      "metadata": {
        "id": "R764BiaGvUUy"
      },
      "execution_count": null,
      "outputs": []
    },
    {
      "cell_type": "code",
      "source": [
        "from sklearn.model_selection import GridSearchCV\n",
        "scores = []\n",
        "\n",
        "for model_name, mp in model_params.items():\n",
        "    clf =  GridSearchCV(mp['model'], mp['params'], cv=5, return_train_score=False)\n",
        "    clf.fit(X, y)\n",
        "    scores.append({\n",
        "        'model': model_name,\n",
        "        'best_score': clf.best_score_,\n",
        "        'best_params': clf.best_params_\n",
        "    })\n",
        "    \n",
        "df = pd.DataFrame(scores,columns=['model','best_score','best_params'])\n",
        "df"
      ],
      "metadata": {
        "colab": {
          "base_uri": "https://localhost:8080/",
          "height": 334
        },
        "id": "a5Y5aPPvxzC1",
        "outputId": "298084cf-8398-4e99-d108-7fd37ae55e06"
      },
      "execution_count": null,
      "outputs": [
        {
          "output_type": "stream",
          "name": "stderr",
          "text": [
            "/usr/local/lib/python3.7/dist-packages/sklearn/model_selection/_split.py:680: UserWarning: The least populated class in y has only 1 members, which is less than n_splits=5.\n",
            "  UserWarning,\n",
            "/usr/local/lib/python3.7/dist-packages/sklearn/model_selection/_split.py:680: UserWarning: The least populated class in y has only 1 members, which is less than n_splits=5.\n",
            "  UserWarning,\n",
            "/usr/local/lib/python3.7/dist-packages/sklearn/model_selection/_split.py:680: UserWarning: The least populated class in y has only 1 members, which is less than n_splits=5.\n",
            "  UserWarning,\n",
            "/usr/local/lib/python3.7/dist-packages/sklearn/model_selection/_split.py:680: UserWarning: The least populated class in y has only 1 members, which is less than n_splits=5.\n",
            "  UserWarning,\n"
          ]
        },
        {
          "output_type": "execute_result",
          "data": {
            "text/plain": [
              "                 model  best_score                 best_params\n",
              "0                  svm    0.488235  {'C': 10, 'kernel': 'rbf'}\n",
              "1        random_forest    0.476471        {'n_estimators': 10}\n",
              "2  logistic_regression    0.458824                    {'C': 1}\n",
              "3        decision_tree    0.423529       {'criterion': 'gini'}"
            ],
            "text/html": [
              "\n",
              "  <div id=\"df-2e64f6e2-2c66-41be-9afd-504bde501bcf\">\n",
              "    <div class=\"colab-df-container\">\n",
              "      <div>\n",
              "<style scoped>\n",
              "    .dataframe tbody tr th:only-of-type {\n",
              "        vertical-align: middle;\n",
              "    }\n",
              "\n",
              "    .dataframe tbody tr th {\n",
              "        vertical-align: top;\n",
              "    }\n",
              "\n",
              "    .dataframe thead th {\n",
              "        text-align: right;\n",
              "    }\n",
              "</style>\n",
              "<table border=\"1\" class=\"dataframe\">\n",
              "  <thead>\n",
              "    <tr style=\"text-align: right;\">\n",
              "      <th></th>\n",
              "      <th>model</th>\n",
              "      <th>best_score</th>\n",
              "      <th>best_params</th>\n",
              "    </tr>\n",
              "  </thead>\n",
              "  <tbody>\n",
              "    <tr>\n",
              "      <th>0</th>\n",
              "      <td>svm</td>\n",
              "      <td>0.488235</td>\n",
              "      <td>{'C': 10, 'kernel': 'rbf'}</td>\n",
              "    </tr>\n",
              "    <tr>\n",
              "      <th>1</th>\n",
              "      <td>random_forest</td>\n",
              "      <td>0.476471</td>\n",
              "      <td>{'n_estimators': 10}</td>\n",
              "    </tr>\n",
              "    <tr>\n",
              "      <th>2</th>\n",
              "      <td>logistic_regression</td>\n",
              "      <td>0.458824</td>\n",
              "      <td>{'C': 1}</td>\n",
              "    </tr>\n",
              "    <tr>\n",
              "      <th>3</th>\n",
              "      <td>decision_tree</td>\n",
              "      <td>0.423529</td>\n",
              "      <td>{'criterion': 'gini'}</td>\n",
              "    </tr>\n",
              "  </tbody>\n",
              "</table>\n",
              "</div>\n",
              "      <button class=\"colab-df-convert\" onclick=\"convertToInteractive('df-2e64f6e2-2c66-41be-9afd-504bde501bcf')\"\n",
              "              title=\"Convert this dataframe to an interactive table.\"\n",
              "              style=\"display:none;\">\n",
              "        \n",
              "  <svg xmlns=\"http://www.w3.org/2000/svg\" height=\"24px\"viewBox=\"0 0 24 24\"\n",
              "       width=\"24px\">\n",
              "    <path d=\"M0 0h24v24H0V0z\" fill=\"none\"/>\n",
              "    <path d=\"M18.56 5.44l.94 2.06.94-2.06 2.06-.94-2.06-.94-.94-2.06-.94 2.06-2.06.94zm-11 1L8.5 8.5l.94-2.06 2.06-.94-2.06-.94L8.5 2.5l-.94 2.06-2.06.94zm10 10l.94 2.06.94-2.06 2.06-.94-2.06-.94-.94-2.06-.94 2.06-2.06.94z\"/><path d=\"M17.41 7.96l-1.37-1.37c-.4-.4-.92-.59-1.43-.59-.52 0-1.04.2-1.43.59L10.3 9.45l-7.72 7.72c-.78.78-.78 2.05 0 2.83L4 21.41c.39.39.9.59 1.41.59.51 0 1.02-.2 1.41-.59l7.78-7.78 2.81-2.81c.8-.78.8-2.07 0-2.86zM5.41 20L4 18.59l7.72-7.72 1.47 1.35L5.41 20z\"/>\n",
              "  </svg>\n",
              "      </button>\n",
              "      \n",
              "  <style>\n",
              "    .colab-df-container {\n",
              "      display:flex;\n",
              "      flex-wrap:wrap;\n",
              "      gap: 12px;\n",
              "    }\n",
              "\n",
              "    .colab-df-convert {\n",
              "      background-color: #E8F0FE;\n",
              "      border: none;\n",
              "      border-radius: 50%;\n",
              "      cursor: pointer;\n",
              "      display: none;\n",
              "      fill: #1967D2;\n",
              "      height: 32px;\n",
              "      padding: 0 0 0 0;\n",
              "      width: 32px;\n",
              "    }\n",
              "\n",
              "    .colab-df-convert:hover {\n",
              "      background-color: #E2EBFA;\n",
              "      box-shadow: 0px 1px 2px rgba(60, 64, 67, 0.3), 0px 1px 3px 1px rgba(60, 64, 67, 0.15);\n",
              "      fill: #174EA6;\n",
              "    }\n",
              "\n",
              "    [theme=dark] .colab-df-convert {\n",
              "      background-color: #3B4455;\n",
              "      fill: #D2E3FC;\n",
              "    }\n",
              "\n",
              "    [theme=dark] .colab-df-convert:hover {\n",
              "      background-color: #434B5C;\n",
              "      box-shadow: 0px 1px 3px 1px rgba(0, 0, 0, 0.15);\n",
              "      filter: drop-shadow(0px 1px 2px rgba(0, 0, 0, 0.3));\n",
              "      fill: #FFFFFF;\n",
              "    }\n",
              "  </style>\n",
              "\n",
              "      <script>\n",
              "        const buttonEl =\n",
              "          document.querySelector('#df-2e64f6e2-2c66-41be-9afd-504bde501bcf button.colab-df-convert');\n",
              "        buttonEl.style.display =\n",
              "          google.colab.kernel.accessAllowed ? 'block' : 'none';\n",
              "\n",
              "        async function convertToInteractive(key) {\n",
              "          const element = document.querySelector('#df-2e64f6e2-2c66-41be-9afd-504bde501bcf');\n",
              "          const dataTable =\n",
              "            await google.colab.kernel.invokeFunction('convertToInteractive',\n",
              "                                                     [key], {});\n",
              "          if (!dataTable) return;\n",
              "\n",
              "          const docLinkHtml = 'Like what you see? Visit the ' +\n",
              "            '<a target=\"_blank\" href=https://colab.research.google.com/notebooks/data_table.ipynb>data table notebook</a>'\n",
              "            + ' to learn more about interactive tables.';\n",
              "          element.innerHTML = '';\n",
              "          dataTable['output_type'] = 'display_data';\n",
              "          await google.colab.output.renderOutput(dataTable, element);\n",
              "          const docLink = document.createElement('div');\n",
              "          docLink.innerHTML = docLinkHtml;\n",
              "          element.appendChild(docLink);\n",
              "        }\n",
              "      </script>\n",
              "    </div>\n",
              "  </div>\n",
              "  "
            ]
          },
          "metadata": {},
          "execution_count": 68
        }
      ]
    },
    {
      "cell_type": "markdown",
      "source": [
        "The winner is svm (C=10, kernel=rbf) with a 49% score"
      ],
      "metadata": {
        "id": "XtKon0_2zzOo"
      }
    },
    {
      "cell_type": "markdown",
      "source": [
        "I'm going to try another type of ML modeling in attempt to get better results. I am chosing to try Principal Components Analysis (PCA) because PCA will allow me to reduce a large dataset into one that contains a smaller amount of data."
      ],
      "metadata": {
        "id": "7JJZM_SFEkF2"
      }
    },
    {
      "cell_type": "markdown",
      "source": [
        "Identify the X and the y"
      ],
      "metadata": {
        "id": "ie94IPkOXicd"
      }
    },
    {
      "cell_type": "code",
      "source": [
        "X = diet_n.drop (['Country', 'Unit (all except Population)', 'Confirmed'], axis = 'columns')\n",
        "X"
      ],
      "metadata": {
        "colab": {
          "base_uri": "https://localhost:8080/",
          "height": 522
        },
        "id": "82erZl76DVVF",
        "outputId": "c83ed4ea-c71c-453e-b3f3-58897e5aec32"
      },
      "execution_count": null,
      "outputs": [
        {
          "output_type": "execute_result",
          "data": {
            "text/plain": [
              "     Alcoholic Beverages  Animal fats  Animal Products  \\\n",
              "0                      0            0                9   \n",
              "1                      1            0               18   \n",
              "2                      0            0                9   \n",
              "3                      5            0                4   \n",
              "4                      3            0               16   \n",
              "..                   ...          ...              ...   \n",
              "165                    2            0               14   \n",
              "166                    1            0                8   \n",
              "167                    0            0                5   \n",
              "168                    5            0                6   \n",
              "169                    4            0                8   \n",
              "\n",
              "     Aquatic Products, Other  Cereals - Excluding Beer  Eggs  Fish, Seafood  \\\n",
              "0                          0                        24     0              0   \n",
              "1                          0                         5     0              0   \n",
              "2                          0                        13     0              0   \n",
              "3                          0                         9     0              1   \n",
              "4                          0                         5     0              4   \n",
              "..                       ...                       ...   ...            ...   \n",
              "165                        0                        12     0              0   \n",
              "166                        0                        16     0              2   \n",
              "167                        0                        27     0              0   \n",
              "168                        0                        21     0              1   \n",
              "169                        0                        22     0              0   \n",
              "\n",
              "     Fruits - Excluding Wine  Meat  Milk - Excluding Butter  ...  Treenuts  \\\n",
              "0                          5     1                        7  ...         0   \n",
              "1                          6     1                       15  ...         0   \n",
              "2                          6     1                        7  ...         0   \n",
              "3                          6     2                        0  ...         0   \n",
              "4                         10     5                        6  ...         0   \n",
              "..                       ...   ...                      ...  ...       ...   \n",
              "165                        7     3                        9  ...         0   \n",
              "166                        5     4                        0  ...         0   \n",
              "167                        5     2                        1  ...         0   \n",
              "168                        1     1                        1  ...         0   \n",
              "169                        2     2                        4  ...         0   \n",
              "\n",
              "     Vegetable Oils  Vegetables  Vegetal Products  Obesity  Undernourished  \\\n",
              "0                 0           6                40        4              29   \n",
              "1                 0          11                31       22               6   \n",
              "2                 1          11                40       26               3   \n",
              "3                 0           2                45        6              25   \n",
              "4                 0           5                33       19              14   \n",
              "..              ...         ...               ...      ...             ...   \n",
              "165               1           4                35       25              21   \n",
              "166               0          11                41        2               9   \n",
              "167               1           3                44       14              38   \n",
              "168               0           3                43        6              46   \n",
              "169               1           2                41       12              51   \n",
              "\n",
              "     Deaths  Recovered  Active  Population  \n",
              "0         0          0       0    38928000  \n",
              "1         0          1       1     2838000  \n",
              "2         0          0       0    44357000  \n",
              "3         0          0       0    32522000  \n",
              "4         0          0       0       98000  \n",
              "..      ...        ...     ...         ...  \n",
              "165       0          0       0    28645000  \n",
              "166       0          0       0    96209000  \n",
              "167       0          0       0    29826000  \n",
              "168       0          0       0    18384000  \n",
              "169       0          0       0    14863000  \n",
              "\n",
              "[170 rows x 29 columns]"
            ],
            "text/html": [
              "\n",
              "  <div id=\"df-106e67de-ff6f-4f1e-adbd-fc70c7405c2c\">\n",
              "    <div class=\"colab-df-container\">\n",
              "      <div>\n",
              "<style scoped>\n",
              "    .dataframe tbody tr th:only-of-type {\n",
              "        vertical-align: middle;\n",
              "    }\n",
              "\n",
              "    .dataframe tbody tr th {\n",
              "        vertical-align: top;\n",
              "    }\n",
              "\n",
              "    .dataframe thead th {\n",
              "        text-align: right;\n",
              "    }\n",
              "</style>\n",
              "<table border=\"1\" class=\"dataframe\">\n",
              "  <thead>\n",
              "    <tr style=\"text-align: right;\">\n",
              "      <th></th>\n",
              "      <th>Alcoholic Beverages</th>\n",
              "      <th>Animal fats</th>\n",
              "      <th>Animal Products</th>\n",
              "      <th>Aquatic Products, Other</th>\n",
              "      <th>Cereals - Excluding Beer</th>\n",
              "      <th>Eggs</th>\n",
              "      <th>Fish, Seafood</th>\n",
              "      <th>Fruits - Excluding Wine</th>\n",
              "      <th>Meat</th>\n",
              "      <th>Milk - Excluding Butter</th>\n",
              "      <th>...</th>\n",
              "      <th>Treenuts</th>\n",
              "      <th>Vegetable Oils</th>\n",
              "      <th>Vegetables</th>\n",
              "      <th>Vegetal Products</th>\n",
              "      <th>Obesity</th>\n",
              "      <th>Undernourished</th>\n",
              "      <th>Deaths</th>\n",
              "      <th>Recovered</th>\n",
              "      <th>Active</th>\n",
              "      <th>Population</th>\n",
              "    </tr>\n",
              "  </thead>\n",
              "  <tbody>\n",
              "    <tr>\n",
              "      <th>0</th>\n",
              "      <td>0</td>\n",
              "      <td>0</td>\n",
              "      <td>9</td>\n",
              "      <td>0</td>\n",
              "      <td>24</td>\n",
              "      <td>0</td>\n",
              "      <td>0</td>\n",
              "      <td>5</td>\n",
              "      <td>1</td>\n",
              "      <td>7</td>\n",
              "      <td>...</td>\n",
              "      <td>0</td>\n",
              "      <td>0</td>\n",
              "      <td>6</td>\n",
              "      <td>40</td>\n",
              "      <td>4</td>\n",
              "      <td>29</td>\n",
              "      <td>0</td>\n",
              "      <td>0</td>\n",
              "      <td>0</td>\n",
              "      <td>38928000</td>\n",
              "    </tr>\n",
              "    <tr>\n",
              "      <th>1</th>\n",
              "      <td>1</td>\n",
              "      <td>0</td>\n",
              "      <td>18</td>\n",
              "      <td>0</td>\n",
              "      <td>5</td>\n",
              "      <td>0</td>\n",
              "      <td>0</td>\n",
              "      <td>6</td>\n",
              "      <td>1</td>\n",
              "      <td>15</td>\n",
              "      <td>...</td>\n",
              "      <td>0</td>\n",
              "      <td>0</td>\n",
              "      <td>11</td>\n",
              "      <td>31</td>\n",
              "      <td>22</td>\n",
              "      <td>6</td>\n",
              "      <td>0</td>\n",
              "      <td>1</td>\n",
              "      <td>1</td>\n",
              "      <td>2838000</td>\n",
              "    </tr>\n",
              "    <tr>\n",
              "      <th>2</th>\n",
              "      <td>0</td>\n",
              "      <td>0</td>\n",
              "      <td>9</td>\n",
              "      <td>0</td>\n",
              "      <td>13</td>\n",
              "      <td>0</td>\n",
              "      <td>0</td>\n",
              "      <td>6</td>\n",
              "      <td>1</td>\n",
              "      <td>7</td>\n",
              "      <td>...</td>\n",
              "      <td>0</td>\n",
              "      <td>1</td>\n",
              "      <td>11</td>\n",
              "      <td>40</td>\n",
              "      <td>26</td>\n",
              "      <td>3</td>\n",
              "      <td>0</td>\n",
              "      <td>0</td>\n",
              "      <td>0</td>\n",
              "      <td>44357000</td>\n",
              "    </tr>\n",
              "    <tr>\n",
              "      <th>3</th>\n",
              "      <td>5</td>\n",
              "      <td>0</td>\n",
              "      <td>4</td>\n",
              "      <td>0</td>\n",
              "      <td>9</td>\n",
              "      <td>0</td>\n",
              "      <td>1</td>\n",
              "      <td>6</td>\n",
              "      <td>2</td>\n",
              "      <td>0</td>\n",
              "      <td>...</td>\n",
              "      <td>0</td>\n",
              "      <td>0</td>\n",
              "      <td>2</td>\n",
              "      <td>45</td>\n",
              "      <td>6</td>\n",
              "      <td>25</td>\n",
              "      <td>0</td>\n",
              "      <td>0</td>\n",
              "      <td>0</td>\n",
              "      <td>32522000</td>\n",
              "    </tr>\n",
              "    <tr>\n",
              "      <th>4</th>\n",
              "      <td>3</td>\n",
              "      <td>0</td>\n",
              "      <td>16</td>\n",
              "      <td>0</td>\n",
              "      <td>5</td>\n",
              "      <td>0</td>\n",
              "      <td>4</td>\n",
              "      <td>10</td>\n",
              "      <td>5</td>\n",
              "      <td>6</td>\n",
              "      <td>...</td>\n",
              "      <td>0</td>\n",
              "      <td>0</td>\n",
              "      <td>5</td>\n",
              "      <td>33</td>\n",
              "      <td>19</td>\n",
              "      <td>14</td>\n",
              "      <td>0</td>\n",
              "      <td>0</td>\n",
              "      <td>0</td>\n",
              "      <td>98000</td>\n",
              "    </tr>\n",
              "    <tr>\n",
              "      <th>...</th>\n",
              "      <td>...</td>\n",
              "      <td>...</td>\n",
              "      <td>...</td>\n",
              "      <td>...</td>\n",
              "      <td>...</td>\n",
              "      <td>...</td>\n",
              "      <td>...</td>\n",
              "      <td>...</td>\n",
              "      <td>...</td>\n",
              "      <td>...</td>\n",
              "      <td>...</td>\n",
              "      <td>...</td>\n",
              "      <td>...</td>\n",
              "      <td>...</td>\n",
              "      <td>...</td>\n",
              "      <td>...</td>\n",
              "      <td>...</td>\n",
              "      <td>...</td>\n",
              "      <td>...</td>\n",
              "      <td>...</td>\n",
              "      <td>...</td>\n",
              "    </tr>\n",
              "    <tr>\n",
              "      <th>165</th>\n",
              "      <td>2</td>\n",
              "      <td>0</td>\n",
              "      <td>14</td>\n",
              "      <td>0</td>\n",
              "      <td>12</td>\n",
              "      <td>0</td>\n",
              "      <td>0</td>\n",
              "      <td>7</td>\n",
              "      <td>3</td>\n",
              "      <td>9</td>\n",
              "      <td>...</td>\n",
              "      <td>0</td>\n",
              "      <td>1</td>\n",
              "      <td>4</td>\n",
              "      <td>35</td>\n",
              "      <td>25</td>\n",
              "      <td>21</td>\n",
              "      <td>0</td>\n",
              "      <td>0</td>\n",
              "      <td>0</td>\n",
              "      <td>28645000</td>\n",
              "    </tr>\n",
              "    <tr>\n",
              "      <th>166</th>\n",
              "      <td>1</td>\n",
              "      <td>0</td>\n",
              "      <td>8</td>\n",
              "      <td>0</td>\n",
              "      <td>16</td>\n",
              "      <td>0</td>\n",
              "      <td>2</td>\n",
              "      <td>5</td>\n",
              "      <td>4</td>\n",
              "      <td>0</td>\n",
              "      <td>...</td>\n",
              "      <td>0</td>\n",
              "      <td>0</td>\n",
              "      <td>11</td>\n",
              "      <td>41</td>\n",
              "      <td>2</td>\n",
              "      <td>9</td>\n",
              "      <td>0</td>\n",
              "      <td>0</td>\n",
              "      <td>0</td>\n",
              "      <td>96209000</td>\n",
              "    </tr>\n",
              "    <tr>\n",
              "      <th>167</th>\n",
              "      <td>0</td>\n",
              "      <td>0</td>\n",
              "      <td>5</td>\n",
              "      <td>0</td>\n",
              "      <td>27</td>\n",
              "      <td>0</td>\n",
              "      <td>0</td>\n",
              "      <td>5</td>\n",
              "      <td>2</td>\n",
              "      <td>1</td>\n",
              "      <td>...</td>\n",
              "      <td>0</td>\n",
              "      <td>1</td>\n",
              "      <td>3</td>\n",
              "      <td>44</td>\n",
              "      <td>14</td>\n",
              "      <td>38</td>\n",
              "      <td>0</td>\n",
              "      <td>0</td>\n",
              "      <td>0</td>\n",
              "      <td>29826000</td>\n",
              "    </tr>\n",
              "    <tr>\n",
              "      <th>168</th>\n",
              "      <td>5</td>\n",
              "      <td>0</td>\n",
              "      <td>6</td>\n",
              "      <td>0</td>\n",
              "      <td>21</td>\n",
              "      <td>0</td>\n",
              "      <td>1</td>\n",
              "      <td>1</td>\n",
              "      <td>1</td>\n",
              "      <td>1</td>\n",
              "      <td>...</td>\n",
              "      <td>0</td>\n",
              "      <td>0</td>\n",
              "      <td>3</td>\n",
              "      <td>43</td>\n",
              "      <td>6</td>\n",
              "      <td>46</td>\n",
              "      <td>0</td>\n",
              "      <td>0</td>\n",
              "      <td>0</td>\n",
              "      <td>18384000</td>\n",
              "    </tr>\n",
              "    <tr>\n",
              "      <th>169</th>\n",
              "      <td>4</td>\n",
              "      <td>0</td>\n",
              "      <td>8</td>\n",
              "      <td>0</td>\n",
              "      <td>22</td>\n",
              "      <td>0</td>\n",
              "      <td>0</td>\n",
              "      <td>2</td>\n",
              "      <td>2</td>\n",
              "      <td>4</td>\n",
              "      <td>...</td>\n",
              "      <td>0</td>\n",
              "      <td>1</td>\n",
              "      <td>2</td>\n",
              "      <td>41</td>\n",
              "      <td>12</td>\n",
              "      <td>51</td>\n",
              "      <td>0</td>\n",
              "      <td>0</td>\n",
              "      <td>0</td>\n",
              "      <td>14863000</td>\n",
              "    </tr>\n",
              "  </tbody>\n",
              "</table>\n",
              "<p>170 rows × 29 columns</p>\n",
              "</div>\n",
              "      <button class=\"colab-df-convert\" onclick=\"convertToInteractive('df-106e67de-ff6f-4f1e-adbd-fc70c7405c2c')\"\n",
              "              title=\"Convert this dataframe to an interactive table.\"\n",
              "              style=\"display:none;\">\n",
              "        \n",
              "  <svg xmlns=\"http://www.w3.org/2000/svg\" height=\"24px\"viewBox=\"0 0 24 24\"\n",
              "       width=\"24px\">\n",
              "    <path d=\"M0 0h24v24H0V0z\" fill=\"none\"/>\n",
              "    <path d=\"M18.56 5.44l.94 2.06.94-2.06 2.06-.94-2.06-.94-.94-2.06-.94 2.06-2.06.94zm-11 1L8.5 8.5l.94-2.06 2.06-.94-2.06-.94L8.5 2.5l-.94 2.06-2.06.94zm10 10l.94 2.06.94-2.06 2.06-.94-2.06-.94-.94-2.06-.94 2.06-2.06.94z\"/><path d=\"M17.41 7.96l-1.37-1.37c-.4-.4-.92-.59-1.43-.59-.52 0-1.04.2-1.43.59L10.3 9.45l-7.72 7.72c-.78.78-.78 2.05 0 2.83L4 21.41c.39.39.9.59 1.41.59.51 0 1.02-.2 1.41-.59l7.78-7.78 2.81-2.81c.8-.78.8-2.07 0-2.86zM5.41 20L4 18.59l7.72-7.72 1.47 1.35L5.41 20z\"/>\n",
              "  </svg>\n",
              "      </button>\n",
              "      \n",
              "  <style>\n",
              "    .colab-df-container {\n",
              "      display:flex;\n",
              "      flex-wrap:wrap;\n",
              "      gap: 12px;\n",
              "    }\n",
              "\n",
              "    .colab-df-convert {\n",
              "      background-color: #E8F0FE;\n",
              "      border: none;\n",
              "      border-radius: 50%;\n",
              "      cursor: pointer;\n",
              "      display: none;\n",
              "      fill: #1967D2;\n",
              "      height: 32px;\n",
              "      padding: 0 0 0 0;\n",
              "      width: 32px;\n",
              "    }\n",
              "\n",
              "    .colab-df-convert:hover {\n",
              "      background-color: #E2EBFA;\n",
              "      box-shadow: 0px 1px 2px rgba(60, 64, 67, 0.3), 0px 1px 3px 1px rgba(60, 64, 67, 0.15);\n",
              "      fill: #174EA6;\n",
              "    }\n",
              "\n",
              "    [theme=dark] .colab-df-convert {\n",
              "      background-color: #3B4455;\n",
              "      fill: #D2E3FC;\n",
              "    }\n",
              "\n",
              "    [theme=dark] .colab-df-convert:hover {\n",
              "      background-color: #434B5C;\n",
              "      box-shadow: 0px 1px 3px 1px rgba(0, 0, 0, 0.15);\n",
              "      filter: drop-shadow(0px 1px 2px rgba(0, 0, 0, 0.3));\n",
              "      fill: #FFFFFF;\n",
              "    }\n",
              "  </style>\n",
              "\n",
              "      <script>\n",
              "        const buttonEl =\n",
              "          document.querySelector('#df-106e67de-ff6f-4f1e-adbd-fc70c7405c2c button.colab-df-convert');\n",
              "        buttonEl.style.display =\n",
              "          google.colab.kernel.accessAllowed ? 'block' : 'none';\n",
              "\n",
              "        async function convertToInteractive(key) {\n",
              "          const element = document.querySelector('#df-106e67de-ff6f-4f1e-adbd-fc70c7405c2c');\n",
              "          const dataTable =\n",
              "            await google.colab.kernel.invokeFunction('convertToInteractive',\n",
              "                                                     [key], {});\n",
              "          if (!dataTable) return;\n",
              "\n",
              "          const docLinkHtml = 'Like what you see? Visit the ' +\n",
              "            '<a target=\"_blank\" href=https://colab.research.google.com/notebooks/data_table.ipynb>data table notebook</a>'\n",
              "            + ' to learn more about interactive tables.';\n",
              "          element.innerHTML = '';\n",
              "          dataTable['output_type'] = 'display_data';\n",
              "          await google.colab.output.renderOutput(dataTable, element);\n",
              "          const docLink = document.createElement('div');\n",
              "          docLink.innerHTML = docLinkHtml;\n",
              "          element.appendChild(docLink);\n",
              "        }\n",
              "      </script>\n",
              "    </div>\n",
              "  </div>\n",
              "  "
            ]
          },
          "metadata": {},
          "execution_count": 69
        }
      ]
    },
    {
      "cell_type": "code",
      "source": [
        "y = diet_n['Confirmed']\n",
        "y"
      ],
      "metadata": {
        "colab": {
          "base_uri": "https://localhost:8080/"
        },
        "id": "OLrxHSB5DVuB",
        "outputId": "c3e3e1e1-1f21-4497-9ae9-31cf3c388b86"
      },
      "execution_count": null,
      "outputs": [
        {
          "output_type": "execute_result",
          "data": {
            "text/plain": [
              "0      0\n",
              "1      2\n",
              "2      0\n",
              "3      0\n",
              "4      0\n",
              "      ..\n",
              "165    0\n",
              "166    0\n",
              "167    0\n",
              "168    0\n",
              "169    0\n",
              "Name: Confirmed, Length: 170, dtype: int64"
            ]
          },
          "metadata": {},
          "execution_count": 70
        }
      ]
    },
    {
      "cell_type": "markdown",
      "source": [
        "Scale the features before training our model using standard scaler and store it in a variable called \"x_scaled\""
      ],
      "metadata": {
        "id": "lwWRU2Sa_fR7"
      }
    },
    {
      "cell_type": "code",
      "source": [
        "from sklearn.preprocessing import StandardScaler\n",
        "\n",
        "scaler = StandardScaler()\n",
        "X_scaled = scaler.fit_transform(X)\n",
        "X_scaled"
      ],
      "metadata": {
        "colab": {
          "base_uri": "https://localhost:8080/"
        },
        "id": "kS5vePTqCy7P",
        "outputId": "1ba850d4-ca84-4c6d-d31b-06f8d00d0765"
      },
      "execution_count": null,
      "outputs": [
        {
          "output_type": "execute_result",
          "data": {
            "text/plain": [
              "array([[-1.09642769e+00, -1.91273014e-01, -4.56131469e-01, ...,\n",
              "        -6.33192639e-01, -2.69384614e-01, -3.58792768e-02],\n",
              "       [-6.67938708e-01, -1.91273014e-01,  1.07767325e+00, ...,\n",
              "        -6.66518568e-02,  5.63258738e-01, -2.67288522e-01],\n",
              "       [-1.09642769e+00, -1.91273014e-01, -4.56131469e-01, ...,\n",
              "        -6.33192639e-01, -2.69384614e-01, -1.06850399e-03],\n",
              "       ...,\n",
              "       [-1.09642769e+00, -1.91273014e-01, -1.13782246e+00, ...,\n",
              "        -6.33192639e-01, -2.69384614e-01, -9.42413425e-02],\n",
              "       [ 1.04601722e+00, -1.91273014e-01, -9.67399709e-01, ...,\n",
              "        -6.33192639e-01, -2.69384614e-01, -1.67607499e-01],\n",
              "       [ 6.17528239e-01, -1.91273014e-01, -6.26554216e-01, ...,\n",
              "        -6.33192639e-01, -2.69384614e-01, -1.90184167e-01]])"
            ]
          },
          "metadata": {},
          "execution_count": 71
        }
      ]
    },
    {
      "cell_type": "markdown",
      "source": [
        "Train my data using train, test, split. This time I am training the X_scaled and y data"
      ],
      "metadata": {
        "id": "mjewzZc0dvUZ"
      }
    },
    {
      "cell_type": "code",
      "source": [
        "from sklearn.model_selection import train_test_split\n",
        "\n",
        "X_train, X_test, y_train, y_test = train_test_split(X_scaled, y, test_size=0.2, random_state=50)"
      ],
      "metadata": {
        "id": "SALqXlDZC-n2"
      },
      "execution_count": null,
      "outputs": []
    },
    {
      "cell_type": "markdown",
      "source": [
        "Create a Random Forest model\n",
        "\n",
        "Model.fit to train the data\n",
        "\n",
        "Model.score to test the accuracy"
      ],
      "metadata": {
        "id": "lYx9QIzdeWln"
      }
    },
    {
      "cell_type": "code",
      "source": [
        "from sklearn.ensemble import RandomForestClassifier\n",
        "model = RandomForestClassifier()\n",
        "model.fit(X_train, y_train)\n",
        "model.score(X_test, y_test)"
      ],
      "metadata": {
        "colab": {
          "base_uri": "https://localhost:8080/"
        },
        "id": "yFQyKuS3DJcb",
        "outputId": "114500ac-28b6-41b9-a286-759ecd2b22bf"
      },
      "execution_count": null,
      "outputs": [
        {
          "output_type": "execute_result",
          "data": {
            "text/plain": [
              "0.7352941176470589"
            ]
          },
          "metadata": {},
          "execution_count": 73
        }
      ]
    },
    {
      "cell_type": "markdown",
      "source": [
        "Call my X again"
      ],
      "metadata": {
        "id": "UEEqqPB6e04l"
      }
    },
    {
      "cell_type": "code",
      "source": [
        "X"
      ],
      "metadata": {
        "colab": {
          "base_uri": "https://localhost:8080/",
          "height": 522
        },
        "id": "4BLFV86pDPyc",
        "outputId": "d2b5b31c-d885-4abc-87ce-c1852ef5993e"
      },
      "execution_count": null,
      "outputs": [
        {
          "output_type": "execute_result",
          "data": {
            "text/plain": [
              "     Alcoholic Beverages  Animal fats  Animal Products  \\\n",
              "0                      0            0                9   \n",
              "1                      1            0               18   \n",
              "2                      0            0                9   \n",
              "3                      5            0                4   \n",
              "4                      3            0               16   \n",
              "..                   ...          ...              ...   \n",
              "165                    2            0               14   \n",
              "166                    1            0                8   \n",
              "167                    0            0                5   \n",
              "168                    5            0                6   \n",
              "169                    4            0                8   \n",
              "\n",
              "     Aquatic Products, Other  Cereals - Excluding Beer  Eggs  Fish, Seafood  \\\n",
              "0                          0                        24     0              0   \n",
              "1                          0                         5     0              0   \n",
              "2                          0                        13     0              0   \n",
              "3                          0                         9     0              1   \n",
              "4                          0                         5     0              4   \n",
              "..                       ...                       ...   ...            ...   \n",
              "165                        0                        12     0              0   \n",
              "166                        0                        16     0              2   \n",
              "167                        0                        27     0              0   \n",
              "168                        0                        21     0              1   \n",
              "169                        0                        22     0              0   \n",
              "\n",
              "     Fruits - Excluding Wine  Meat  Milk - Excluding Butter  ...  Treenuts  \\\n",
              "0                          5     1                        7  ...         0   \n",
              "1                          6     1                       15  ...         0   \n",
              "2                          6     1                        7  ...         0   \n",
              "3                          6     2                        0  ...         0   \n",
              "4                         10     5                        6  ...         0   \n",
              "..                       ...   ...                      ...  ...       ...   \n",
              "165                        7     3                        9  ...         0   \n",
              "166                        5     4                        0  ...         0   \n",
              "167                        5     2                        1  ...         0   \n",
              "168                        1     1                        1  ...         0   \n",
              "169                        2     2                        4  ...         0   \n",
              "\n",
              "     Vegetable Oils  Vegetables  Vegetal Products  Obesity  Undernourished  \\\n",
              "0                 0           6                40        4              29   \n",
              "1                 0          11                31       22               6   \n",
              "2                 1          11                40       26               3   \n",
              "3                 0           2                45        6              25   \n",
              "4                 0           5                33       19              14   \n",
              "..              ...         ...               ...      ...             ...   \n",
              "165               1           4                35       25              21   \n",
              "166               0          11                41        2               9   \n",
              "167               1           3                44       14              38   \n",
              "168               0           3                43        6              46   \n",
              "169               1           2                41       12              51   \n",
              "\n",
              "     Deaths  Recovered  Active  Population  \n",
              "0         0          0       0    38928000  \n",
              "1         0          1       1     2838000  \n",
              "2         0          0       0    44357000  \n",
              "3         0          0       0    32522000  \n",
              "4         0          0       0       98000  \n",
              "..      ...        ...     ...         ...  \n",
              "165       0          0       0    28645000  \n",
              "166       0          0       0    96209000  \n",
              "167       0          0       0    29826000  \n",
              "168       0          0       0    18384000  \n",
              "169       0          0       0    14863000  \n",
              "\n",
              "[170 rows x 29 columns]"
            ],
            "text/html": [
              "\n",
              "  <div id=\"df-a3cceef4-4c09-4507-9c26-51b5155c3e7d\">\n",
              "    <div class=\"colab-df-container\">\n",
              "      <div>\n",
              "<style scoped>\n",
              "    .dataframe tbody tr th:only-of-type {\n",
              "        vertical-align: middle;\n",
              "    }\n",
              "\n",
              "    .dataframe tbody tr th {\n",
              "        vertical-align: top;\n",
              "    }\n",
              "\n",
              "    .dataframe thead th {\n",
              "        text-align: right;\n",
              "    }\n",
              "</style>\n",
              "<table border=\"1\" class=\"dataframe\">\n",
              "  <thead>\n",
              "    <tr style=\"text-align: right;\">\n",
              "      <th></th>\n",
              "      <th>Alcoholic Beverages</th>\n",
              "      <th>Animal fats</th>\n",
              "      <th>Animal Products</th>\n",
              "      <th>Aquatic Products, Other</th>\n",
              "      <th>Cereals - Excluding Beer</th>\n",
              "      <th>Eggs</th>\n",
              "      <th>Fish, Seafood</th>\n",
              "      <th>Fruits - Excluding Wine</th>\n",
              "      <th>Meat</th>\n",
              "      <th>Milk - Excluding Butter</th>\n",
              "      <th>...</th>\n",
              "      <th>Treenuts</th>\n",
              "      <th>Vegetable Oils</th>\n",
              "      <th>Vegetables</th>\n",
              "      <th>Vegetal Products</th>\n",
              "      <th>Obesity</th>\n",
              "      <th>Undernourished</th>\n",
              "      <th>Deaths</th>\n",
              "      <th>Recovered</th>\n",
              "      <th>Active</th>\n",
              "      <th>Population</th>\n",
              "    </tr>\n",
              "  </thead>\n",
              "  <tbody>\n",
              "    <tr>\n",
              "      <th>0</th>\n",
              "      <td>0</td>\n",
              "      <td>0</td>\n",
              "      <td>9</td>\n",
              "      <td>0</td>\n",
              "      <td>24</td>\n",
              "      <td>0</td>\n",
              "      <td>0</td>\n",
              "      <td>5</td>\n",
              "      <td>1</td>\n",
              "      <td>7</td>\n",
              "      <td>...</td>\n",
              "      <td>0</td>\n",
              "      <td>0</td>\n",
              "      <td>6</td>\n",
              "      <td>40</td>\n",
              "      <td>4</td>\n",
              "      <td>29</td>\n",
              "      <td>0</td>\n",
              "      <td>0</td>\n",
              "      <td>0</td>\n",
              "      <td>38928000</td>\n",
              "    </tr>\n",
              "    <tr>\n",
              "      <th>1</th>\n",
              "      <td>1</td>\n",
              "      <td>0</td>\n",
              "      <td>18</td>\n",
              "      <td>0</td>\n",
              "      <td>5</td>\n",
              "      <td>0</td>\n",
              "      <td>0</td>\n",
              "      <td>6</td>\n",
              "      <td>1</td>\n",
              "      <td>15</td>\n",
              "      <td>...</td>\n",
              "      <td>0</td>\n",
              "      <td>0</td>\n",
              "      <td>11</td>\n",
              "      <td>31</td>\n",
              "      <td>22</td>\n",
              "      <td>6</td>\n",
              "      <td>0</td>\n",
              "      <td>1</td>\n",
              "      <td>1</td>\n",
              "      <td>2838000</td>\n",
              "    </tr>\n",
              "    <tr>\n",
              "      <th>2</th>\n",
              "      <td>0</td>\n",
              "      <td>0</td>\n",
              "      <td>9</td>\n",
              "      <td>0</td>\n",
              "      <td>13</td>\n",
              "      <td>0</td>\n",
              "      <td>0</td>\n",
              "      <td>6</td>\n",
              "      <td>1</td>\n",
              "      <td>7</td>\n",
              "      <td>...</td>\n",
              "      <td>0</td>\n",
              "      <td>1</td>\n",
              "      <td>11</td>\n",
              "      <td>40</td>\n",
              "      <td>26</td>\n",
              "      <td>3</td>\n",
              "      <td>0</td>\n",
              "      <td>0</td>\n",
              "      <td>0</td>\n",
              "      <td>44357000</td>\n",
              "    </tr>\n",
              "    <tr>\n",
              "      <th>3</th>\n",
              "      <td>5</td>\n",
              "      <td>0</td>\n",
              "      <td>4</td>\n",
              "      <td>0</td>\n",
              "      <td>9</td>\n",
              "      <td>0</td>\n",
              "      <td>1</td>\n",
              "      <td>6</td>\n",
              "      <td>2</td>\n",
              "      <td>0</td>\n",
              "      <td>...</td>\n",
              "      <td>0</td>\n",
              "      <td>0</td>\n",
              "      <td>2</td>\n",
              "      <td>45</td>\n",
              "      <td>6</td>\n",
              "      <td>25</td>\n",
              "      <td>0</td>\n",
              "      <td>0</td>\n",
              "      <td>0</td>\n",
              "      <td>32522000</td>\n",
              "    </tr>\n",
              "    <tr>\n",
              "      <th>4</th>\n",
              "      <td>3</td>\n",
              "      <td>0</td>\n",
              "      <td>16</td>\n",
              "      <td>0</td>\n",
              "      <td>5</td>\n",
              "      <td>0</td>\n",
              "      <td>4</td>\n",
              "      <td>10</td>\n",
              "      <td>5</td>\n",
              "      <td>6</td>\n",
              "      <td>...</td>\n",
              "      <td>0</td>\n",
              "      <td>0</td>\n",
              "      <td>5</td>\n",
              "      <td>33</td>\n",
              "      <td>19</td>\n",
              "      <td>14</td>\n",
              "      <td>0</td>\n",
              "      <td>0</td>\n",
              "      <td>0</td>\n",
              "      <td>98000</td>\n",
              "    </tr>\n",
              "    <tr>\n",
              "      <th>...</th>\n",
              "      <td>...</td>\n",
              "      <td>...</td>\n",
              "      <td>...</td>\n",
              "      <td>...</td>\n",
              "      <td>...</td>\n",
              "      <td>...</td>\n",
              "      <td>...</td>\n",
              "      <td>...</td>\n",
              "      <td>...</td>\n",
              "      <td>...</td>\n",
              "      <td>...</td>\n",
              "      <td>...</td>\n",
              "      <td>...</td>\n",
              "      <td>...</td>\n",
              "      <td>...</td>\n",
              "      <td>...</td>\n",
              "      <td>...</td>\n",
              "      <td>...</td>\n",
              "      <td>...</td>\n",
              "      <td>...</td>\n",
              "      <td>...</td>\n",
              "    </tr>\n",
              "    <tr>\n",
              "      <th>165</th>\n",
              "      <td>2</td>\n",
              "      <td>0</td>\n",
              "      <td>14</td>\n",
              "      <td>0</td>\n",
              "      <td>12</td>\n",
              "      <td>0</td>\n",
              "      <td>0</td>\n",
              "      <td>7</td>\n",
              "      <td>3</td>\n",
              "      <td>9</td>\n",
              "      <td>...</td>\n",
              "      <td>0</td>\n",
              "      <td>1</td>\n",
              "      <td>4</td>\n",
              "      <td>35</td>\n",
              "      <td>25</td>\n",
              "      <td>21</td>\n",
              "      <td>0</td>\n",
              "      <td>0</td>\n",
              "      <td>0</td>\n",
              "      <td>28645000</td>\n",
              "    </tr>\n",
              "    <tr>\n",
              "      <th>166</th>\n",
              "      <td>1</td>\n",
              "      <td>0</td>\n",
              "      <td>8</td>\n",
              "      <td>0</td>\n",
              "      <td>16</td>\n",
              "      <td>0</td>\n",
              "      <td>2</td>\n",
              "      <td>5</td>\n",
              "      <td>4</td>\n",
              "      <td>0</td>\n",
              "      <td>...</td>\n",
              "      <td>0</td>\n",
              "      <td>0</td>\n",
              "      <td>11</td>\n",
              "      <td>41</td>\n",
              "      <td>2</td>\n",
              "      <td>9</td>\n",
              "      <td>0</td>\n",
              "      <td>0</td>\n",
              "      <td>0</td>\n",
              "      <td>96209000</td>\n",
              "    </tr>\n",
              "    <tr>\n",
              "      <th>167</th>\n",
              "      <td>0</td>\n",
              "      <td>0</td>\n",
              "      <td>5</td>\n",
              "      <td>0</td>\n",
              "      <td>27</td>\n",
              "      <td>0</td>\n",
              "      <td>0</td>\n",
              "      <td>5</td>\n",
              "      <td>2</td>\n",
              "      <td>1</td>\n",
              "      <td>...</td>\n",
              "      <td>0</td>\n",
              "      <td>1</td>\n",
              "      <td>3</td>\n",
              "      <td>44</td>\n",
              "      <td>14</td>\n",
              "      <td>38</td>\n",
              "      <td>0</td>\n",
              "      <td>0</td>\n",
              "      <td>0</td>\n",
              "      <td>29826000</td>\n",
              "    </tr>\n",
              "    <tr>\n",
              "      <th>168</th>\n",
              "      <td>5</td>\n",
              "      <td>0</td>\n",
              "      <td>6</td>\n",
              "      <td>0</td>\n",
              "      <td>21</td>\n",
              "      <td>0</td>\n",
              "      <td>1</td>\n",
              "      <td>1</td>\n",
              "      <td>1</td>\n",
              "      <td>1</td>\n",
              "      <td>...</td>\n",
              "      <td>0</td>\n",
              "      <td>0</td>\n",
              "      <td>3</td>\n",
              "      <td>43</td>\n",
              "      <td>6</td>\n",
              "      <td>46</td>\n",
              "      <td>0</td>\n",
              "      <td>0</td>\n",
              "      <td>0</td>\n",
              "      <td>18384000</td>\n",
              "    </tr>\n",
              "    <tr>\n",
              "      <th>169</th>\n",
              "      <td>4</td>\n",
              "      <td>0</td>\n",
              "      <td>8</td>\n",
              "      <td>0</td>\n",
              "      <td>22</td>\n",
              "      <td>0</td>\n",
              "      <td>0</td>\n",
              "      <td>2</td>\n",
              "      <td>2</td>\n",
              "      <td>4</td>\n",
              "      <td>...</td>\n",
              "      <td>0</td>\n",
              "      <td>1</td>\n",
              "      <td>2</td>\n",
              "      <td>41</td>\n",
              "      <td>12</td>\n",
              "      <td>51</td>\n",
              "      <td>0</td>\n",
              "      <td>0</td>\n",
              "      <td>0</td>\n",
              "      <td>14863000</td>\n",
              "    </tr>\n",
              "  </tbody>\n",
              "</table>\n",
              "<p>170 rows × 29 columns</p>\n",
              "</div>\n",
              "      <button class=\"colab-df-convert\" onclick=\"convertToInteractive('df-a3cceef4-4c09-4507-9c26-51b5155c3e7d')\"\n",
              "              title=\"Convert this dataframe to an interactive table.\"\n",
              "              style=\"display:none;\">\n",
              "        \n",
              "  <svg xmlns=\"http://www.w3.org/2000/svg\" height=\"24px\"viewBox=\"0 0 24 24\"\n",
              "       width=\"24px\">\n",
              "    <path d=\"M0 0h24v24H0V0z\" fill=\"none\"/>\n",
              "    <path d=\"M18.56 5.44l.94 2.06.94-2.06 2.06-.94-2.06-.94-.94-2.06-.94 2.06-2.06.94zm-11 1L8.5 8.5l.94-2.06 2.06-.94-2.06-.94L8.5 2.5l-.94 2.06-2.06.94zm10 10l.94 2.06.94-2.06 2.06-.94-2.06-.94-.94-2.06-.94 2.06-2.06.94z\"/><path d=\"M17.41 7.96l-1.37-1.37c-.4-.4-.92-.59-1.43-.59-.52 0-1.04.2-1.43.59L10.3 9.45l-7.72 7.72c-.78.78-.78 2.05 0 2.83L4 21.41c.39.39.9.59 1.41.59.51 0 1.02-.2 1.41-.59l7.78-7.78 2.81-2.81c.8-.78.8-2.07 0-2.86zM5.41 20L4 18.59l7.72-7.72 1.47 1.35L5.41 20z\"/>\n",
              "  </svg>\n",
              "      </button>\n",
              "      \n",
              "  <style>\n",
              "    .colab-df-container {\n",
              "      display:flex;\n",
              "      flex-wrap:wrap;\n",
              "      gap: 12px;\n",
              "    }\n",
              "\n",
              "    .colab-df-convert {\n",
              "      background-color: #E8F0FE;\n",
              "      border: none;\n",
              "      border-radius: 50%;\n",
              "      cursor: pointer;\n",
              "      display: none;\n",
              "      fill: #1967D2;\n",
              "      height: 32px;\n",
              "      padding: 0 0 0 0;\n",
              "      width: 32px;\n",
              "    }\n",
              "\n",
              "    .colab-df-convert:hover {\n",
              "      background-color: #E2EBFA;\n",
              "      box-shadow: 0px 1px 2px rgba(60, 64, 67, 0.3), 0px 1px 3px 1px rgba(60, 64, 67, 0.15);\n",
              "      fill: #174EA6;\n",
              "    }\n",
              "\n",
              "    [theme=dark] .colab-df-convert {\n",
              "      background-color: #3B4455;\n",
              "      fill: #D2E3FC;\n",
              "    }\n",
              "\n",
              "    [theme=dark] .colab-df-convert:hover {\n",
              "      background-color: #434B5C;\n",
              "      box-shadow: 0px 1px 3px 1px rgba(0, 0, 0, 0.15);\n",
              "      filter: drop-shadow(0px 1px 2px rgba(0, 0, 0, 0.3));\n",
              "      fill: #FFFFFF;\n",
              "    }\n",
              "  </style>\n",
              "\n",
              "      <script>\n",
              "        const buttonEl =\n",
              "          document.querySelector('#df-a3cceef4-4c09-4507-9c26-51b5155c3e7d button.colab-df-convert');\n",
              "        buttonEl.style.display =\n",
              "          google.colab.kernel.accessAllowed ? 'block' : 'none';\n",
              "\n",
              "        async function convertToInteractive(key) {\n",
              "          const element = document.querySelector('#df-a3cceef4-4c09-4507-9c26-51b5155c3e7d');\n",
              "          const dataTable =\n",
              "            await google.colab.kernel.invokeFunction('convertToInteractive',\n",
              "                                                     [key], {});\n",
              "          if (!dataTable) return;\n",
              "\n",
              "          const docLinkHtml = 'Like what you see? Visit the ' +\n",
              "            '<a target=\"_blank\" href=https://colab.research.google.com/notebooks/data_table.ipynb>data table notebook</a>'\n",
              "            + ' to learn more about interactive tables.';\n",
              "          element.innerHTML = '';\n",
              "          dataTable['output_type'] = 'display_data';\n",
              "          await google.colab.output.renderOutput(dataTable, element);\n",
              "          const docLink = document.createElement('div');\n",
              "          docLink.innerHTML = docLinkHtml;\n",
              "          element.appendChild(docLink);\n",
              "        }\n",
              "      </script>\n",
              "    </div>\n",
              "  </div>\n",
              "  "
            ]
          },
          "metadata": {},
          "execution_count": 74
        }
      ]
    },
    {
      "cell_type": "code",
      "source": [
        "X.shape"
      ],
      "metadata": {
        "colab": {
          "base_uri": "https://localhost:8080/"
        },
        "id": "slQA8F1pfkZv",
        "outputId": "de0403d1-4aad-4f53-cbf0-b94ecec0e988"
      },
      "execution_count": null,
      "outputs": [
        {
          "output_type": "execute_result",
          "data": {
            "text/plain": [
              "(170, 29)"
            ]
          },
          "metadata": {},
          "execution_count": 75
        }
      ]
    },
    {
      "cell_type": "markdown",
      "source": [
        "Import PCA, create a PCA variable that retains 95% of the usful features. Compare the new shape of our data to the original shape above. We went from 29 columns to 1 column"
      ],
      "metadata": {
        "id": "VM-T2fESe3kU"
      }
    },
    {
      "cell_type": "code",
      "source": [
        "from sklearn.decomposition import PCA\n",
        "\n",
        "pca = PCA(0.95) #probability of those 3 columns equals 95%\n",
        "X_pca = pca.fit_transform(X)\n",
        "X_pca.shape"
      ],
      "metadata": {
        "colab": {
          "base_uri": "https://localhost:8080/"
        },
        "id": "YlKSIvWwDRQi",
        "outputId": "460627e1-eabd-4d5e-e081-f592ac56797d"
      },
      "execution_count": null,
      "outputs": [
        {
          "output_type": "execute_result",
          "data": {
            "text/plain": [
              "(170, 1)"
            ]
          },
          "metadata": {},
          "execution_count": 76
        }
      ]
    },
    {
      "cell_type": "markdown",
      "source": [
        "N_components is how many components or columns you now have"
      ],
      "metadata": {
        "id": "vDM-b5T2gbCA"
      }
    },
    {
      "cell_type": "code",
      "source": [
        "pca.n_components_"
      ],
      "metadata": {
        "colab": {
          "base_uri": "https://localhost:8080/"
        },
        "id": "1i2xm2RRETGN",
        "outputId": "2c59a482-6edc-482e-fb26-c6b3da86f768"
      },
      "execution_count": null,
      "outputs": [
        {
          "output_type": "execute_result",
          "data": {
            "text/plain": [
              "1"
            ]
          },
          "metadata": {},
          "execution_count": 77
        }
      ]
    },
    {
      "cell_type": "markdown",
      "source": [
        "PCA will calculate new columns"
      ],
      "metadata": {
        "id": "StRhlseygJQM"
      }
    },
    {
      "cell_type": "code",
      "source": [
        "X_pca"
      ],
      "metadata": {
        "colab": {
          "base_uri": "https://localhost:8080/"
        },
        "id": "kHzaega4EWYs",
        "outputId": "1cb88af4-7f34-4b82-fee8-a6740b890bf1"
      },
      "execution_count": null,
      "outputs": [
        {
          "output_type": "execute_result",
          "data": {
            "text/plain": [
              "array([[-5.59564118e+06],\n",
              "       [-4.16856412e+07],\n",
              "       [-1.66641176e+05],\n",
              "       [-1.20016412e+07],\n",
              "       [-4.44256412e+07],\n",
              "       [ 8.53358824e+05],\n",
              "       [-4.15676412e+07],\n",
              "       [-1.87696412e+07],\n",
              "       [-3.56096412e+07],\n",
              "       [-3.44156412e+07],\n",
              "       [-4.41306412e+07],\n",
              "       [ 1.25285359e+08],\n",
              "       [-4.42366412e+07],\n",
              "       [-3.51486412e+07],\n",
              "       [-3.30086412e+07],\n",
              "       [-4.41046412e+07],\n",
              "       [-3.23146412e+07],\n",
              "       [-3.28906412e+07],\n",
              "       [-4.12426412e+07],\n",
              "       [-4.22066412e+07],\n",
              "       [ 1.67288359e+08],\n",
              "       [-3.75966412e+07],\n",
              "       [-2.36206412e+07],\n",
              "       [-4.39676412e+07],\n",
              "       [-2.90266412e+07],\n",
              "       [-1.79256412e+07],\n",
              "       [-6.33364118e+06],\n",
              "       [-3.96936412e+07],\n",
              "       [-2.76466412e+07],\n",
              "       [-2.50536412e+07],\n",
              "       [ 1.35786136e+09],\n",
              "       [ 4.92035882e+06],\n",
              "       [-3.90056412e+07],\n",
              "       [-3.94126412e+07],\n",
              "       [-1.83486412e+07],\n",
              "       [-4.05036412e+07],\n",
              "       [-3.32426412e+07],\n",
              "       [-4.33166412e+07],\n",
              "       [-3.38076412e+07],\n",
              "       [-3.86946412e+07],\n",
              "       [-4.35356412e+07],\n",
              "       [-4.44516412e+07],\n",
              "       [-3.40236412e+07],\n",
              "       [-2.70126412e+07],\n",
              "       [ 5.62793588e+07],\n",
              "       [-3.80426412e+07],\n",
              "       [-4.31926412e+07],\n",
              "       [-4.34196412e+07],\n",
              "       [ 7.03923588e+07],\n",
              "       [-4.36276412e+07],\n",
              "       [-3.89946412e+07],\n",
              "       [ 2.04163588e+07],\n",
              "       [-4.42436412e+07],\n",
              "       [-4.22926412e+07],\n",
              "       [-4.21066412e+07],\n",
              "       [-4.08086412e+07],\n",
              "       [ 3.87763588e+07],\n",
              "       [-1.34506412e+07],\n",
              "       [-3.38236412e+07],\n",
              "       [-4.44106412e+07],\n",
              "       [-2.64576412e+07],\n",
              "       [-3.19636412e+07],\n",
              "       [-4.25966412e+07],\n",
              "       [-4.37366412e+07],\n",
              "       [-3.31206412e+07],\n",
              "       [-3.46596412e+07],\n",
              "       [-3.47566412e+07],\n",
              "       [-4.41556412e+07],\n",
              "       [ 1.35557636e+09],\n",
              "       [ 2.27215359e+08],\n",
              "       [ 3.96263588e+07],\n",
              "       [-4.79864118e+06],\n",
              "       [-3.95206412e+07],\n",
              "       [-3.53076412e+07],\n",
              "       [ 1.57723588e+07],\n",
              "       [-4.17146412e+07],\n",
              "       [ 8.14433588e+07],\n",
              "       [-3.38446412e+07],\n",
              "       [-2.57916412e+07],\n",
              "       [ 9.00435882e+06],\n",
              "       [-4.43986412e+07],\n",
              "       [-1.87446412e+07],\n",
              "       [ 7.25735882e+06],\n",
              "       [-3.98326412e+07],\n",
              "       [-3.79296412e+07],\n",
              "       [-3.72816412e+07],\n",
              "       [-4.26216412e+07],\n",
              "       [-3.76986412e+07],\n",
              "       [-4.23816412e+07],\n",
              "       [-3.94656412e+07],\n",
              "       [-4.17296412e+07],\n",
              "       [-4.38916412e+07],\n",
              "       [-1.68326412e+07],\n",
              "       [-2.53936412e+07],\n",
              "       [-1.17426412e+07],\n",
              "       [-4.39826412e+07],\n",
              "       [-2.42726412e+07],\n",
              "       [-4.40016412e+07],\n",
              "       [-3.98736412e+07],\n",
              "       [-4.32586412e+07],\n",
              "       [ 8.32683588e+07],\n",
              "       [-4.11626412e+07],\n",
              "       [-4.39016412e+07],\n",
              "       [-8.57164118e+06],\n",
              "       [-1.33576412e+07],\n",
              "       [ 1.01803588e+07],\n",
              "       [-4.19826412e+07],\n",
              "       [-1.45276412e+07],\n",
              "       [-2.70566412e+07],\n",
              "       [-4.42286412e+07],\n",
              "       [-3.95366412e+07],\n",
              "       [-3.79276412e+07],\n",
              "       [-2.03346412e+07],\n",
              "       [ 1.61616359e+08],\n",
              "       [-4.24436412e+07],\n",
              "       [-3.91366412e+07],\n",
              "       [-3.98106412e+07],\n",
              "       [ 1.76416359e+08],\n",
              "       [-4.02406412e+07],\n",
              "       [-3.72686412e+07],\n",
              "       [-1.16996412e+07],\n",
              "       [ 6.50573588e+07],\n",
              "       [-6.15564118e+06],\n",
              "       [-3.42686412e+07],\n",
              "       [-4.09886412e+07],\n",
              "       [-2.52826412e+07],\n",
              "       [ 1.02209359e+08],\n",
              "       [-3.15716412e+07],\n",
              "       [-4.44696412e+07],\n",
              "       [-4.43416412e+07],\n",
              "       [-4.44126412e+07],\n",
              "       [-4.43236412e+07],\n",
              "       [-4.43136412e+07],\n",
              "       [-9.48264118e+06],\n",
              "       [-2.77796412e+07],\n",
              "       [-3.75666412e+07],\n",
              "       [-3.65466412e+07],\n",
              "       [-3.90616412e+07],\n",
              "       [-4.24206412e+07],\n",
              "       [-4.38086412e+07],\n",
              "       [ 1.51043588e+07],\n",
              "       [ 3.11135882e+06],\n",
              "       [-2.25866412e+07],\n",
              "       [-6.74641176e+05],\n",
              "       [-4.39186412e+07],\n",
              "       [-3.41466412e+07],\n",
              "       [-3.58896412e+07],\n",
              "       [-2.09136412e+07],\n",
              "       [-3.50946412e+07],\n",
              "       [ 2.20103588e+07],\n",
              "       [-4.32056412e+07],\n",
              "       [-3.62446412e+07],\n",
              "       [-4.31546412e+07],\n",
              "       [-3.26276412e+07],\n",
              "       [ 3.92133588e+07],\n",
              "       [-3.84926412e+07],\n",
              "       [ 1.21735882e+06],\n",
              "       [-2.74564118e+06],\n",
              "       [-3.47456412e+07],\n",
              "       [ 2.26363588e+07],\n",
              "       [ 1.52103588e+07],\n",
              "       [ 2.85354359e+08],\n",
              "       [-4.09926412e+07],\n",
              "       [-1.03496412e+07],\n",
              "       [-4.42026412e+07],\n",
              "       [-1.58786412e+07],\n",
              "       [ 5.16853588e+07],\n",
              "       [-1.46976412e+07],\n",
              "       [-2.61396412e+07],\n",
              "       [-2.96606412e+07]])"
            ]
          },
          "metadata": {},
          "execution_count": 78
        }
      ]
    },
    {
      "cell_type": "markdown",
      "source": [
        "Use the new dataframe to train my model"
      ],
      "metadata": {
        "id": "921jv7mmgrE7"
      }
    },
    {
      "cell_type": "code",
      "source": [
        "X_train_pca, X_test_pca, y_train, y_test = train_test_split(X_pca, y, test_size=0.2, random_state=30)"
      ],
      "metadata": {
        "id": "h1ll2Ow2EaEi"
      },
      "execution_count": null,
      "outputs": []
    },
    {
      "cell_type": "code",
      "source": [
        "from sklearn.ensemble import RandomForestClassifier\n",
        "model = RandomForestClassifier(n_estimators=100)\n",
        "\n",
        "model.fit(X_train_pca, y_train)\n",
        "model.score(X_test_pca, y_test)"
      ],
      "metadata": {
        "colab": {
          "base_uri": "https://localhost:8080/"
        },
        "id": "hK0MuDFgEdaa",
        "outputId": "02061a85-6b77-4bc3-ecf8-1cf48ce163c1"
      },
      "execution_count": null,
      "outputs": [
        {
          "output_type": "execute_result",
          "data": {
            "text/plain": [
              "0.4117647058823529"
            ]
          },
          "metadata": {},
          "execution_count": 80
        }
      ]
    },
    {
      "cell_type": "markdown",
      "source": [
        "Lastly, we will create a confusion matrix to help identify the correct predictions along with the errors. We create a variable called predictions which contains the predictions of the X test PCA"
      ],
      "metadata": {
        "id": "7Dtl0RiVh51Q"
      }
    },
    {
      "cell_type": "code",
      "source": [
        "predictions = model.predict (X_test_pca)"
      ],
      "metadata": {
        "id": "Ke7ryHF-MWJc"
      },
      "execution_count": null,
      "outputs": []
    },
    {
      "cell_type": "markdown",
      "source": [
        "Import the confustion matrix"
      ],
      "metadata": {
        "id": "F-Lo0_0Liu46"
      }
    },
    {
      "cell_type": "code",
      "source": [
        "from sklearn.metrics import confusion_matrix\n",
        "cm = confusion_matrix(y_test, predictions)\n",
        "cm"
      ],
      "metadata": {
        "colab": {
          "base_uri": "https://localhost:8080/"
        },
        "id": "lqg0hMVHvU2F",
        "outputId": "0ea30c39-aac8-4873-e682-83e45ec1bbec"
      },
      "execution_count": null,
      "outputs": [
        {
          "output_type": "execute_result",
          "data": {
            "text/plain": [
              "array([[11,  2,  2,  1,  1,  1,  0,  0,  0],\n",
              "       [ 0,  2,  0,  1,  0,  0,  0,  0,  0],\n",
              "       [ 1,  0,  0,  0,  1,  0,  0,  0,  0],\n",
              "       [ 1,  1,  0,  1,  0,  0,  0,  0,  0],\n",
              "       [ 2,  0,  0,  0,  0,  0,  0,  0,  0],\n",
              "       [ 1,  0,  0,  0,  0,  0,  0,  0,  0],\n",
              "       [ 1,  0,  0,  0,  0,  0,  0,  0,  0],\n",
              "       [ 0,  0,  1,  0,  0,  2,  0,  0,  0],\n",
              "       [ 1,  0,  0,  0,  0,  0,  0,  0,  0]])"
            ]
          },
          "metadata": {},
          "execution_count": 82
        }
      ]
    },
    {
      "cell_type": "markdown",
      "source": [
        "Use matplotlib to create a more visually appealing confusion matrix"
      ],
      "metadata": {
        "id": "m23f-1iQjERC"
      }
    },
    {
      "cell_type": "code",
      "source": [
        "%matplotlib inline\n",
        "import matplotlib.pyplot as plt\n",
        "import seaborn as sn\n",
        "plt.figure(figsize=(10,7))\n",
        "sn.heatmap(cm, annot=True)\n",
        "plt.xlabel('Predicted')\n",
        "plt.ylabel('Truth')"
      ],
      "metadata": {
        "colab": {
          "base_uri": "https://localhost:8080/",
          "height": 459
        },
        "id": "ddVjhKnJvPew",
        "outputId": "a510fe32-4436-4dfa-d03a-d65c2c6ebb1a"
      },
      "execution_count": null,
      "outputs": [
        {
          "output_type": "execute_result",
          "data": {
            "text/plain": [
              "Text(69.0, 0.5, 'Truth')"
            ]
          },
          "metadata": {},
          "execution_count": 83
        },
        {
          "output_type": "display_data",
          "data": {
            "text/plain": [
              "<Figure size 720x504 with 2 Axes>"
            ],
            "image/png": "[encoded data removed]"
          },
          "metadata": {
            "needs_background": "light"
          }
        }
      ]
    },
    {
      "cell_type": "markdown",
      "source": [
        "From the above we can see that according to our matrix only 33% was correctly predicted (0,1,3) while 2, 4, 5, 6, 7, and 8 were not correctly predicted"
      ],
      "metadata": {
        "id": "ZjT8ll2UjOtc"
      }
    },
    {
      "cell_type": "markdown",
      "source": [
        "After analyzing and evaluating the data there does not seem to be a coorelation between a healthy diet and confirmed COVID 19 cases."
      ],
      "metadata": {
        "id": "nhed42Y9OhaZ"
      }
    }
  ]
}